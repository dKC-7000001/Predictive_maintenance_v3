{
 "cells": [
  {
   "cell_type": "code",
   "execution_count": 338,
   "id": "d2f78d6e",
   "metadata": {},
   "outputs": [],
   "source": [
    "import numpy as np\n",
    "import pandas as pd\n",
    "import matplotlib.pyplot as plt\n",
    "import seaborn as sns"
   ]
  },
  {
   "cell_type": "code",
   "execution_count": 339,
   "id": "fb9d967c",
   "metadata": {},
   "outputs": [],
   "source": [
    "df1 = pd.read_csv('predictive_maintenance.csv')"
   ]
  },
  {
   "cell_type": "code",
   "execution_count": 340,
   "id": "1f94f01b",
   "metadata": {},
   "outputs": [
    {
     "data": {
      "text/html": [
       "<div>\n",
       "<style scoped>\n",
       "    .dataframe tbody tr th:only-of-type {\n",
       "        vertical-align: middle;\n",
       "    }\n",
       "\n",
       "    .dataframe tbody tr th {\n",
       "        vertical-align: top;\n",
       "    }\n",
       "\n",
       "    .dataframe thead th {\n",
       "        text-align: right;\n",
       "    }\n",
       "</style>\n",
       "<table border=\"1\" class=\"dataframe\">\n",
       "  <thead>\n",
       "    <tr style=\"text-align: right;\">\n",
       "      <th></th>\n",
       "      <th>UDI</th>\n",
       "      <th>Product ID</th>\n",
       "      <th>Type</th>\n",
       "      <th>Air temperature [K]</th>\n",
       "      <th>Process temperature [K]</th>\n",
       "      <th>Rotational speed [rpm]</th>\n",
       "      <th>Torque [Nm]</th>\n",
       "      <th>Tool wear [min]</th>\n",
       "      <th>Target</th>\n",
       "      <th>Failure Type</th>\n",
       "    </tr>\n",
       "  </thead>\n",
       "  <tbody>\n",
       "    <tr>\n",
       "      <th>0</th>\n",
       "      <td>1</td>\n",
       "      <td>M14860</td>\n",
       "      <td>M</td>\n",
       "      <td>298.1</td>\n",
       "      <td>308.6</td>\n",
       "      <td>1551</td>\n",
       "      <td>42.8</td>\n",
       "      <td>0</td>\n",
       "      <td>0</td>\n",
       "      <td>No Failure</td>\n",
       "    </tr>\n",
       "    <tr>\n",
       "      <th>1</th>\n",
       "      <td>2</td>\n",
       "      <td>L47181</td>\n",
       "      <td>L</td>\n",
       "      <td>298.2</td>\n",
       "      <td>308.7</td>\n",
       "      <td>1408</td>\n",
       "      <td>46.3</td>\n",
       "      <td>3</td>\n",
       "      <td>0</td>\n",
       "      <td>No Failure</td>\n",
       "    </tr>\n",
       "    <tr>\n",
       "      <th>2</th>\n",
       "      <td>3</td>\n",
       "      <td>L47182</td>\n",
       "      <td>L</td>\n",
       "      <td>298.1</td>\n",
       "      <td>308.5</td>\n",
       "      <td>1498</td>\n",
       "      <td>49.4</td>\n",
       "      <td>5</td>\n",
       "      <td>0</td>\n",
       "      <td>No Failure</td>\n",
       "    </tr>\n",
       "    <tr>\n",
       "      <th>3</th>\n",
       "      <td>4</td>\n",
       "      <td>L47183</td>\n",
       "      <td>L</td>\n",
       "      <td>298.2</td>\n",
       "      <td>308.6</td>\n",
       "      <td>1433</td>\n",
       "      <td>39.5</td>\n",
       "      <td>7</td>\n",
       "      <td>0</td>\n",
       "      <td>No Failure</td>\n",
       "    </tr>\n",
       "    <tr>\n",
       "      <th>4</th>\n",
       "      <td>5</td>\n",
       "      <td>L47184</td>\n",
       "      <td>L</td>\n",
       "      <td>298.2</td>\n",
       "      <td>308.7</td>\n",
       "      <td>1408</td>\n",
       "      <td>40.0</td>\n",
       "      <td>9</td>\n",
       "      <td>0</td>\n",
       "      <td>No Failure</td>\n",
       "    </tr>\n",
       "  </tbody>\n",
       "</table>\n",
       "</div>"
      ],
      "text/plain": [
       "   UDI Product ID Type  Air temperature [K]  Process temperature [K]  \\\n",
       "0    1     M14860    M                298.1                    308.6   \n",
       "1    2     L47181    L                298.2                    308.7   \n",
       "2    3     L47182    L                298.1                    308.5   \n",
       "3    4     L47183    L                298.2                    308.6   \n",
       "4    5     L47184    L                298.2                    308.7   \n",
       "\n",
       "   Rotational speed [rpm]  Torque [Nm]  Tool wear [min]  Target Failure Type  \n",
       "0                    1551         42.8                0       0   No Failure  \n",
       "1                    1408         46.3                3       0   No Failure  \n",
       "2                    1498         49.4                5       0   No Failure  \n",
       "3                    1433         39.5                7       0   No Failure  \n",
       "4                    1408         40.0                9       0   No Failure  "
      ]
     },
     "execution_count": 340,
     "metadata": {},
     "output_type": "execute_result"
    }
   ],
   "source": [
    "df1.head()"
   ]
  },
  {
   "cell_type": "code",
   "execution_count": 341,
   "id": "5d8edf85",
   "metadata": {},
   "outputs": [],
   "source": [
    "from sklearn.preprocessing import LabelEncoder\n",
    "encode=LabelEncoder()"
   ]
  },
  {
   "cell_type": "code",
   "execution_count": 342,
   "id": "974dad8e",
   "metadata": {},
   "outputs": [],
   "source": [
    "df1.loc[:,df1.columns[-1]]=encode.fit_transform(df1.loc[:,df1.columns[-1]])"
   ]
  },
  {
   "cell_type": "code",
   "execution_count": 343,
   "id": "aa984d27",
   "metadata": {},
   "outputs": [
    {
     "data": {
      "text/plain": [
       "array(['Heat Dissipation Failure', 'No Failure', 'Overstrain Failure',\n",
       "       'Power Failure', 'Random Failures', 'Tool Wear Failure'],\n",
       "      dtype=object)"
      ]
     },
     "execution_count": 343,
     "metadata": {},
     "output_type": "execute_result"
    }
   ],
   "source": [
    "encode.classes_"
   ]
  },
  {
   "cell_type": "code",
   "execution_count": 344,
   "id": "054d3c3a",
   "metadata": {},
   "outputs": [],
   "source": [
    "df1['Power'] = df1['Rotational speed [rpm]']*df1['Torque [Nm]']"
   ]
  },
  {
   "cell_type": "code",
   "execution_count": 345,
   "id": "1dba0793",
   "metadata": {},
   "outputs": [],
   "source": [
    "x = df1.drop(['Target', 'Failure Type'], axis=1)"
   ]
  },
  {
   "cell_type": "code",
   "execution_count": 346,
   "id": "1769faa5",
   "metadata": {},
   "outputs": [],
   "source": [
    "y1 = df1['Target']"
   ]
  },
  {
   "cell_type": "code",
   "execution_count": 347,
   "id": "12756a9b",
   "metadata": {},
   "outputs": [
    {
     "data": {
      "text/html": [
       "<div>\n",
       "<style scoped>\n",
       "    .dataframe tbody tr th:only-of-type {\n",
       "        vertical-align: middle;\n",
       "    }\n",
       "\n",
       "    .dataframe tbody tr th {\n",
       "        vertical-align: top;\n",
       "    }\n",
       "\n",
       "    .dataframe thead th {\n",
       "        text-align: right;\n",
       "    }\n",
       "</style>\n",
       "<table border=\"1\" class=\"dataframe\">\n",
       "  <thead>\n",
       "    <tr style=\"text-align: right;\">\n",
       "      <th></th>\n",
       "      <th>UDI</th>\n",
       "      <th>Product ID</th>\n",
       "      <th>Type</th>\n",
       "      <th>Air temperature [K]</th>\n",
       "      <th>Process temperature [K]</th>\n",
       "      <th>Rotational speed [rpm]</th>\n",
       "      <th>Torque [Nm]</th>\n",
       "      <th>Tool wear [min]</th>\n",
       "      <th>Target</th>\n",
       "      <th>Failure Type</th>\n",
       "      <th>Power</th>\n",
       "    </tr>\n",
       "  </thead>\n",
       "  <tbody>\n",
       "    <tr>\n",
       "      <th>0</th>\n",
       "      <td>1</td>\n",
       "      <td>M14860</td>\n",
       "      <td>M</td>\n",
       "      <td>298.1</td>\n",
       "      <td>308.6</td>\n",
       "      <td>1551</td>\n",
       "      <td>42.8</td>\n",
       "      <td>0</td>\n",
       "      <td>0</td>\n",
       "      <td>1</td>\n",
       "      <td>66382.8</td>\n",
       "    </tr>\n",
       "    <tr>\n",
       "      <th>1</th>\n",
       "      <td>2</td>\n",
       "      <td>L47181</td>\n",
       "      <td>L</td>\n",
       "      <td>298.2</td>\n",
       "      <td>308.7</td>\n",
       "      <td>1408</td>\n",
       "      <td>46.3</td>\n",
       "      <td>3</td>\n",
       "      <td>0</td>\n",
       "      <td>1</td>\n",
       "      <td>65190.4</td>\n",
       "    </tr>\n",
       "    <tr>\n",
       "      <th>2</th>\n",
       "      <td>3</td>\n",
       "      <td>L47182</td>\n",
       "      <td>L</td>\n",
       "      <td>298.1</td>\n",
       "      <td>308.5</td>\n",
       "      <td>1498</td>\n",
       "      <td>49.4</td>\n",
       "      <td>5</td>\n",
       "      <td>0</td>\n",
       "      <td>1</td>\n",
       "      <td>74001.2</td>\n",
       "    </tr>\n",
       "    <tr>\n",
       "      <th>3</th>\n",
       "      <td>4</td>\n",
       "      <td>L47183</td>\n",
       "      <td>L</td>\n",
       "      <td>298.2</td>\n",
       "      <td>308.6</td>\n",
       "      <td>1433</td>\n",
       "      <td>39.5</td>\n",
       "      <td>7</td>\n",
       "      <td>0</td>\n",
       "      <td>1</td>\n",
       "      <td>56603.5</td>\n",
       "    </tr>\n",
       "    <tr>\n",
       "      <th>4</th>\n",
       "      <td>5</td>\n",
       "      <td>L47184</td>\n",
       "      <td>L</td>\n",
       "      <td>298.2</td>\n",
       "      <td>308.7</td>\n",
       "      <td>1408</td>\n",
       "      <td>40.0</td>\n",
       "      <td>9</td>\n",
       "      <td>0</td>\n",
       "      <td>1</td>\n",
       "      <td>56320.0</td>\n",
       "    </tr>\n",
       "  </tbody>\n",
       "</table>\n",
       "</div>"
      ],
      "text/plain": [
       "   UDI Product ID Type  Air temperature [K]  Process temperature [K]  \\\n",
       "0    1     M14860    M                298.1                    308.6   \n",
       "1    2     L47181    L                298.2                    308.7   \n",
       "2    3     L47182    L                298.1                    308.5   \n",
       "3    4     L47183    L                298.2                    308.6   \n",
       "4    5     L47184    L                298.2                    308.7   \n",
       "\n",
       "   Rotational speed [rpm]  Torque [Nm]  Tool wear [min]  Target  Failure Type  \\\n",
       "0                    1551         42.8                0       0             1   \n",
       "1                    1408         46.3                3       0             1   \n",
       "2                    1498         49.4                5       0             1   \n",
       "3                    1433         39.5                7       0             1   \n",
       "4                    1408         40.0                9       0             1   \n",
       "\n",
       "     Power  \n",
       "0  66382.8  \n",
       "1  65190.4  \n",
       "2  74001.2  \n",
       "3  56603.5  \n",
       "4  56320.0  "
      ]
     },
     "execution_count": 347,
     "metadata": {},
     "output_type": "execute_result"
    }
   ],
   "source": [
    "df1.head()"
   ]
  },
  {
   "cell_type": "code",
   "execution_count": 348,
   "id": "c971e74a",
   "metadata": {},
   "outputs": [
    {
     "data": {
      "text/html": [
       "<div>\n",
       "<style scoped>\n",
       "    .dataframe tbody tr th:only-of-type {\n",
       "        vertical-align: middle;\n",
       "    }\n",
       "\n",
       "    .dataframe tbody tr th {\n",
       "        vertical-align: top;\n",
       "    }\n",
       "\n",
       "    .dataframe thead th {\n",
       "        text-align: right;\n",
       "    }\n",
       "</style>\n",
       "<table border=\"1\" class=\"dataframe\">\n",
       "  <thead>\n",
       "    <tr style=\"text-align: right;\">\n",
       "      <th></th>\n",
       "      <th>UDI</th>\n",
       "      <th>Product ID</th>\n",
       "      <th>Type</th>\n",
       "      <th>Air temperature [K]</th>\n",
       "      <th>Process temperature [K]</th>\n",
       "      <th>Rotational speed [rpm]</th>\n",
       "      <th>Torque [Nm]</th>\n",
       "      <th>Tool wear [min]</th>\n",
       "      <th>Target</th>\n",
       "      <th>Failure Type</th>\n",
       "      <th>Power</th>\n",
       "    </tr>\n",
       "  </thead>\n",
       "  <tbody>\n",
       "    <tr>\n",
       "      <th>0</th>\n",
       "      <td>1</td>\n",
       "      <td>M14860</td>\n",
       "      <td>M</td>\n",
       "      <td>298.1</td>\n",
       "      <td>308.6</td>\n",
       "      <td>1551</td>\n",
       "      <td>42.8</td>\n",
       "      <td>0</td>\n",
       "      <td>0</td>\n",
       "      <td>1</td>\n",
       "      <td>66382.8</td>\n",
       "    </tr>\n",
       "    <tr>\n",
       "      <th>1</th>\n",
       "      <td>2</td>\n",
       "      <td>L47181</td>\n",
       "      <td>L</td>\n",
       "      <td>298.2</td>\n",
       "      <td>308.7</td>\n",
       "      <td>1408</td>\n",
       "      <td>46.3</td>\n",
       "      <td>3</td>\n",
       "      <td>0</td>\n",
       "      <td>1</td>\n",
       "      <td>65190.4</td>\n",
       "    </tr>\n",
       "    <tr>\n",
       "      <th>2</th>\n",
       "      <td>3</td>\n",
       "      <td>L47182</td>\n",
       "      <td>L</td>\n",
       "      <td>298.1</td>\n",
       "      <td>308.5</td>\n",
       "      <td>1498</td>\n",
       "      <td>49.4</td>\n",
       "      <td>5</td>\n",
       "      <td>0</td>\n",
       "      <td>1</td>\n",
       "      <td>74001.2</td>\n",
       "    </tr>\n",
       "    <tr>\n",
       "      <th>3</th>\n",
       "      <td>4</td>\n",
       "      <td>L47183</td>\n",
       "      <td>L</td>\n",
       "      <td>298.2</td>\n",
       "      <td>308.6</td>\n",
       "      <td>1433</td>\n",
       "      <td>39.5</td>\n",
       "      <td>7</td>\n",
       "      <td>0</td>\n",
       "      <td>1</td>\n",
       "      <td>56603.5</td>\n",
       "    </tr>\n",
       "    <tr>\n",
       "      <th>4</th>\n",
       "      <td>5</td>\n",
       "      <td>L47184</td>\n",
       "      <td>L</td>\n",
       "      <td>298.2</td>\n",
       "      <td>308.7</td>\n",
       "      <td>1408</td>\n",
       "      <td>40.0</td>\n",
       "      <td>9</td>\n",
       "      <td>0</td>\n",
       "      <td>1</td>\n",
       "      <td>56320.0</td>\n",
       "    </tr>\n",
       "  </tbody>\n",
       "</table>\n",
       "</div>"
      ],
      "text/plain": [
       "   UDI Product ID Type  Air temperature [K]  Process temperature [K]  \\\n",
       "0    1     M14860    M                298.1                    308.6   \n",
       "1    2     L47181    L                298.2                    308.7   \n",
       "2    3     L47182    L                298.1                    308.5   \n",
       "3    4     L47183    L                298.2                    308.6   \n",
       "4    5     L47184    L                298.2                    308.7   \n",
       "\n",
       "   Rotational speed [rpm]  Torque [Nm]  Tool wear [min]  Target  Failure Type  \\\n",
       "0                    1551         42.8                0       0             1   \n",
       "1                    1408         46.3                3       0             1   \n",
       "2                    1498         49.4                5       0             1   \n",
       "3                    1433         39.5                7       0             1   \n",
       "4                    1408         40.0                9       0             1   \n",
       "\n",
       "     Power  \n",
       "0  66382.8  \n",
       "1  65190.4  \n",
       "2  74001.2  \n",
       "3  56603.5  \n",
       "4  56320.0  "
      ]
     },
     "execution_count": 348,
     "metadata": {},
     "output_type": "execute_result"
    }
   ],
   "source": [
    "df1.head()"
   ]
  },
  {
   "cell_type": "code",
   "execution_count": 349,
   "id": "2319b5a7",
   "metadata": {},
   "outputs": [
    {
     "data": {
      "text/plain": [
       "<AxesSubplot:>"
      ]
     },
     "execution_count": 349,
     "metadata": {},
     "output_type": "execute_result"
    },
    {
     "data": {
      "image/png": "[encoded data removed]",
      "text/plain": [
       "<Figure size 1080x720 with 2 Axes>"
      ]
     },
     "metadata": {
      "needs_background": "light"
     },
     "output_type": "display_data"
    }
   ],
   "source": [
    "fig, ax = plt.subplots(figsize=(15, 10))\n",
    "sns.heatmap(df1.corr(),cmap='YlGnBu', annot=True, ax=ax)\n",
    "#sns.set(rc={'figure.figsize':(40,40)})"
   ]
  },
  {
   "cell_type": "markdown",
   "id": "300be5f4",
   "metadata": {},
   "source": [
    "## Data Set is imbalanced"
   ]
  },
  {
   "cell_type": "code",
   "execution_count": 350,
   "id": "fb392086",
   "metadata": {},
   "outputs": [
    {
     "data": {
      "text/plain": [
       "<AxesSubplot:xlabel='Target', ylabel='count'>"
      ]
     },
     "execution_count": 350,
     "metadata": {},
     "output_type": "execute_result"
    },
    {
     "data": {
      "image/png": "[encoded data removed]",
      "text/plain": [
       "<Figure size 432x288 with 1 Axes>"
      ]
     },
     "metadata": {
      "needs_background": "light"
     },
     "output_type": "display_data"
    }
   ],
   "source": [
    "sns.countplot(x=df1['Target'])"
   ]
  },
  {
   "cell_type": "code",
   "execution_count": 351,
   "id": "51f394ef",
   "metadata": {},
   "outputs": [],
   "source": [
    "from sklearn.datasets import make_classification\n",
    "from imblearn.over_sampling import RandomOverSampler\n",
    "from imblearn.under_sampling import RandomUnderSampler\n",
    "from collections import Counter"
   ]
  },
  {
   "cell_type": "code",
   "execution_count": 352,
   "id": "d3ef5dd9",
   "metadata": {},
   "outputs": [
    {
     "data": {
      "text/html": [
       "<div>\n",
       "<style scoped>\n",
       "    .dataframe tbody tr th:only-of-type {\n",
       "        vertical-align: middle;\n",
       "    }\n",
       "\n",
       "    .dataframe tbody tr th {\n",
       "        vertical-align: top;\n",
       "    }\n",
       "\n",
       "    .dataframe thead th {\n",
       "        text-align: right;\n",
       "    }\n",
       "</style>\n",
       "<table border=\"1\" class=\"dataframe\">\n",
       "  <thead>\n",
       "    <tr style=\"text-align: right;\">\n",
       "      <th></th>\n",
       "      <th>UDI</th>\n",
       "      <th>Product ID</th>\n",
       "      <th>Type</th>\n",
       "      <th>Air temperature [K]</th>\n",
       "      <th>Process temperature [K]</th>\n",
       "      <th>Rotational speed [rpm]</th>\n",
       "      <th>Torque [Nm]</th>\n",
       "      <th>Tool wear [min]</th>\n",
       "      <th>Power</th>\n",
       "    </tr>\n",
       "  </thead>\n",
       "  <tbody>\n",
       "    <tr>\n",
       "      <th>0</th>\n",
       "      <td>1</td>\n",
       "      <td>M14860</td>\n",
       "      <td>M</td>\n",
       "      <td>298.1</td>\n",
       "      <td>308.6</td>\n",
       "      <td>1551</td>\n",
       "      <td>42.8</td>\n",
       "      <td>0</td>\n",
       "      <td>66382.8</td>\n",
       "    </tr>\n",
       "    <tr>\n",
       "      <th>1</th>\n",
       "      <td>2</td>\n",
       "      <td>L47181</td>\n",
       "      <td>L</td>\n",
       "      <td>298.2</td>\n",
       "      <td>308.7</td>\n",
       "      <td>1408</td>\n",
       "      <td>46.3</td>\n",
       "      <td>3</td>\n",
       "      <td>65190.4</td>\n",
       "    </tr>\n",
       "    <tr>\n",
       "      <th>2</th>\n",
       "      <td>3</td>\n",
       "      <td>L47182</td>\n",
       "      <td>L</td>\n",
       "      <td>298.1</td>\n",
       "      <td>308.5</td>\n",
       "      <td>1498</td>\n",
       "      <td>49.4</td>\n",
       "      <td>5</td>\n",
       "      <td>74001.2</td>\n",
       "    </tr>\n",
       "    <tr>\n",
       "      <th>3</th>\n",
       "      <td>4</td>\n",
       "      <td>L47183</td>\n",
       "      <td>L</td>\n",
       "      <td>298.2</td>\n",
       "      <td>308.6</td>\n",
       "      <td>1433</td>\n",
       "      <td>39.5</td>\n",
       "      <td>7</td>\n",
       "      <td>56603.5</td>\n",
       "    </tr>\n",
       "    <tr>\n",
       "      <th>4</th>\n",
       "      <td>5</td>\n",
       "      <td>L47184</td>\n",
       "      <td>L</td>\n",
       "      <td>298.2</td>\n",
       "      <td>308.7</td>\n",
       "      <td>1408</td>\n",
       "      <td>40.0</td>\n",
       "      <td>9</td>\n",
       "      <td>56320.0</td>\n",
       "    </tr>\n",
       "  </tbody>\n",
       "</table>\n",
       "</div>"
      ],
      "text/plain": [
       "   UDI Product ID Type  Air temperature [K]  Process temperature [K]  \\\n",
       "0    1     M14860    M                298.1                    308.6   \n",
       "1    2     L47181    L                298.2                    308.7   \n",
       "2    3     L47182    L                298.1                    308.5   \n",
       "3    4     L47183    L                298.2                    308.6   \n",
       "4    5     L47184    L                298.2                    308.7   \n",
       "\n",
       "   Rotational speed [rpm]  Torque [Nm]  Tool wear [min]    Power  \n",
       "0                    1551         42.8                0  66382.8  \n",
       "1                    1408         46.3                3  65190.4  \n",
       "2                    1498         49.4                5  74001.2  \n",
       "3                    1433         39.5                7  56603.5  \n",
       "4                    1408         40.0                9  56320.0  "
      ]
     },
     "execution_count": 352,
     "metadata": {},
     "output_type": "execute_result"
    }
   ],
   "source": [
    "x.head()"
   ]
  },
  {
   "cell_type": "code",
   "execution_count": 353,
   "id": "26244ff2",
   "metadata": {},
   "outputs": [
    {
     "name": "stdout",
     "output_type": "stream",
     "text": [
      "Counter({0: 9661, 1: 9661})\n"
     ]
    }
   ],
   "source": [
    "# instantiating the random over sampler \n",
    "ros = RandomOverSampler()\n",
    "# resampling X, y\n",
    "X_ros, y_ros = ros.fit_resample(x, y1)\n",
    "# new class distribution \n",
    "print(Counter(y_ros))"
   ]
  },
  {
   "cell_type": "code",
   "execution_count": 354,
   "id": "2a9e0bdc",
   "metadata": {},
   "outputs": [
    {
     "name": "stdout",
     "output_type": "stream",
     "text": [
      "Oversampled: Counter({0: 9661, 1: 4830})\n",
      "Combined Random Sampling: Counter({0: 6037, 1: 4830})\n"
     ]
    }
   ],
   "source": [
    "# instantiating over and under sampler\n",
    "over = RandomOverSampler(sampling_strategy=0.5)\n",
    "under = RandomUnderSampler(sampling_strategy=0.8)\n",
    "# first performing oversampling to minority class\n",
    "X_over, y_over = over.fit_resample(x, y1)\n",
    "print(f\"Oversampled: {Counter(y_over)}\")\n",
    "\n",
    "# now to comine under sampling \n",
    "X_combined_sampling, y_combined_sampling = under.fit_resample(X_over, y_over)\n",
    "print(f\"Combined Random Sampling: {Counter(y_combined_sampling)}\")"
   ]
  },
  {
   "cell_type": "code",
   "execution_count": 355,
   "id": "7e050d00",
   "metadata": {},
   "outputs": [
    {
     "data": {
      "text/plain": [
       "<AxesSubplot:xlabel='Target', ylabel='count'>"
      ]
     },
     "execution_count": 355,
     "metadata": {},
     "output_type": "execute_result"
    },
    {
     "data": {
      "image/png": "[encoded data removed]",
      "text/plain": [
       "<Figure size 432x288 with 1 Axes>"
      ]
     },
     "metadata": {
      "needs_background": "light"
     },
     "output_type": "display_data"
    }
   ],
   "source": [
    "sns.countplot(x=y_combined_sampling)"
   ]
  },
  {
   "cell_type": "code",
   "execution_count": 364,
   "id": "9082c876",
   "metadata": {},
   "outputs": [],
   "source": [
    "x_new = X_combined_sampling\n",
    "y_new = y_combined_sampling"
   ]
  },
  {
   "cell_type": "code",
   "execution_count": 365,
   "id": "0d5b50f8",
   "metadata": {
    "scrolled": true
   },
   "outputs": [
    {
     "data": {
      "text/html": [
       "<div>\n",
       "<style scoped>\n",
       "    .dataframe tbody tr th:only-of-type {\n",
       "        vertical-align: middle;\n",
       "    }\n",
       "\n",
       "    .dataframe tbody tr th {\n",
       "        vertical-align: top;\n",
       "    }\n",
       "\n",
       "    .dataframe thead th {\n",
       "        text-align: right;\n",
       "    }\n",
       "</style>\n",
       "<table border=\"1\" class=\"dataframe\">\n",
       "  <thead>\n",
       "    <tr style=\"text-align: right;\">\n",
       "      <th></th>\n",
       "      <th>Air temperature [K]</th>\n",
       "      <th>Process temperature [K]</th>\n",
       "      <th>Rotational speed [rpm]</th>\n",
       "      <th>Torque [Nm]</th>\n",
       "      <th>Tool wear [min]</th>\n",
       "      <th>Power</th>\n",
       "    </tr>\n",
       "  </thead>\n",
       "  <tbody>\n",
       "    <tr>\n",
       "      <th>0</th>\n",
       "      <td>304.1</td>\n",
       "      <td>313.2</td>\n",
       "      <td>2028</td>\n",
       "      <td>18.9</td>\n",
       "      <td>45</td>\n",
       "      <td>38329.2</td>\n",
       "    </tr>\n",
       "    <tr>\n",
       "      <th>1</th>\n",
       "      <td>297.7</td>\n",
       "      <td>308.7</td>\n",
       "      <td>1688</td>\n",
       "      <td>27.2</td>\n",
       "      <td>125</td>\n",
       "      <td>45913.6</td>\n",
       "    </tr>\n",
       "    <tr>\n",
       "      <th>2</th>\n",
       "      <td>300.5</td>\n",
       "      <td>309.4</td>\n",
       "      <td>1877</td>\n",
       "      <td>23.8</td>\n",
       "      <td>31</td>\n",
       "      <td>44672.6</td>\n",
       "    </tr>\n",
       "    <tr>\n",
       "      <th>3</th>\n",
       "      <td>300.5</td>\n",
       "      <td>309.3</td>\n",
       "      <td>1470</td>\n",
       "      <td>40.8</td>\n",
       "      <td>219</td>\n",
       "      <td>59976.0</td>\n",
       "    </tr>\n",
       "    <tr>\n",
       "      <th>4</th>\n",
       "      <td>301.6</td>\n",
       "      <td>310.6</td>\n",
       "      <td>1599</td>\n",
       "      <td>36.1</td>\n",
       "      <td>208</td>\n",
       "      <td>57723.9</td>\n",
       "    </tr>\n",
       "  </tbody>\n",
       "</table>\n",
       "</div>"
      ],
      "text/plain": [
       "   Air temperature [K]  Process temperature [K]  Rotational speed [rpm]  \\\n",
       "0                304.1                    313.2                    2028   \n",
       "1                297.7                    308.7                    1688   \n",
       "2                300.5                    309.4                    1877   \n",
       "3                300.5                    309.3                    1470   \n",
       "4                301.6                    310.6                    1599   \n",
       "\n",
       "   Torque [Nm]  Tool wear [min]    Power  \n",
       "0         18.9               45  38329.2  \n",
       "1         27.2              125  45913.6  \n",
       "2         23.8               31  44672.6  \n",
       "3         40.8              219  59976.0  \n",
       "4         36.1              208  57723.9  "
      ]
     },
     "execution_count": 365,
     "metadata": {},
     "output_type": "execute_result"
    }
   ],
   "source": [
    "x_new.head()"
   ]
  },
  {
   "cell_type": "code",
   "execution_count": 366,
   "id": "f663b2e8",
   "metadata": {
    "scrolled": true
   },
   "outputs": [
    {
     "data": {
      "text/plain": [
       "0        0\n",
       "1        0\n",
       "2        0\n",
       "3        0\n",
       "4        0\n",
       "        ..\n",
       "10862    1\n",
       "10863    1\n",
       "10864    1\n",
       "10865    1\n",
       "10866    1\n",
       "Name: Target, Length: 10867, dtype: int64"
      ]
     },
     "execution_count": 366,
     "metadata": {},
     "output_type": "execute_result"
    }
   ],
   "source": [
    "y_new"
   ]
  },
  {
   "cell_type": "code",
   "execution_count": 367,
   "id": "93178d7f",
   "metadata": {},
   "outputs": [
    {
     "ename": "KeyError",
     "evalue": "\"['UDI' 'Product ID' 'Type'] not found in axis\"",
     "output_type": "error",
     "traceback": [
      "\u001b[1;31m---------------------------------------------------------------------------\u001b[0m",
      "\u001b[1;31mKeyError\u001b[0m                                  Traceback (most recent call last)",
      "\u001b[1;32mC:\\Users\\214220~2\\AppData\\Local\\Temp/ipykernel_16140/3102042178.py\u001b[0m in \u001b[0;36m<module>\u001b[1;34m\u001b[0m\n\u001b[1;32m----> 1\u001b[1;33m \u001b[0mx_new\u001b[0m\u001b[1;33m.\u001b[0m\u001b[0mdrop\u001b[0m\u001b[1;33m(\u001b[0m\u001b[1;33m[\u001b[0m\u001b[1;34m'UDI'\u001b[0m\u001b[1;33m,\u001b[0m \u001b[1;34m'Product ID'\u001b[0m\u001b[1;33m,\u001b[0m \u001b[1;34m'Type'\u001b[0m\u001b[1;33m]\u001b[0m\u001b[1;33m,\u001b[0m \u001b[0maxis\u001b[0m\u001b[1;33m=\u001b[0m\u001b[1;36m1\u001b[0m\u001b[1;33m,\u001b[0m \u001b[0minplace\u001b[0m\u001b[1;33m=\u001b[0m\u001b[1;32mTrue\u001b[0m\u001b[1;33m)\u001b[0m\u001b[1;33m\u001b[0m\u001b[1;33m\u001b[0m\u001b[0m\n\u001b[0m",
      "\u001b[1;32m~\\Anaconda3\\lib\\site-packages\\pandas\\util\\_decorators.py\u001b[0m in \u001b[0;36mwrapper\u001b[1;34m(*args, **kwargs)\u001b[0m\n\u001b[0;32m    309\u001b[0m                     \u001b[0mstacklevel\u001b[0m\u001b[1;33m=\u001b[0m\u001b[0mstacklevel\u001b[0m\u001b[1;33m,\u001b[0m\u001b[1;33m\u001b[0m\u001b[1;33m\u001b[0m\u001b[0m\n\u001b[0;32m    310\u001b[0m                 )\n\u001b[1;32m--> 311\u001b[1;33m             \u001b[1;32mreturn\u001b[0m \u001b[0mfunc\u001b[0m\u001b[1;33m(\u001b[0m\u001b[1;33m*\u001b[0m\u001b[0margs\u001b[0m\u001b[1;33m,\u001b[0m \u001b[1;33m**\u001b[0m\u001b[0mkwargs\u001b[0m\u001b[1;33m)\u001b[0m\u001b[1;33m\u001b[0m\u001b[1;33m\u001b[0m\u001b[0m\n\u001b[0m\u001b[0;32m    312\u001b[0m \u001b[1;33m\u001b[0m\u001b[0m\n\u001b[0;32m    313\u001b[0m         \u001b[1;32mreturn\u001b[0m \u001b[0mwrapper\u001b[0m\u001b[1;33m\u001b[0m\u001b[1;33m\u001b[0m\u001b[0m\n",
      "\u001b[1;32m~\\Anaconda3\\lib\\site-packages\\pandas\\core\\frame.py\u001b[0m in \u001b[0;36mdrop\u001b[1;34m(self, labels, axis, index, columns, level, inplace, errors)\u001b[0m\n\u001b[0;32m   4904\u001b[0m                 \u001b[0mweight\u001b[0m  \u001b[1;36m1.0\u001b[0m     \u001b[1;36m0.8\u001b[0m\u001b[1;33m\u001b[0m\u001b[1;33m\u001b[0m\u001b[0m\n\u001b[0;32m   4905\u001b[0m         \"\"\"\n\u001b[1;32m-> 4906\u001b[1;33m         return super().drop(\n\u001b[0m\u001b[0;32m   4907\u001b[0m             \u001b[0mlabels\u001b[0m\u001b[1;33m=\u001b[0m\u001b[0mlabels\u001b[0m\u001b[1;33m,\u001b[0m\u001b[1;33m\u001b[0m\u001b[1;33m\u001b[0m\u001b[0m\n\u001b[0;32m   4908\u001b[0m             \u001b[0maxis\u001b[0m\u001b[1;33m=\u001b[0m\u001b[0maxis\u001b[0m\u001b[1;33m,\u001b[0m\u001b[1;33m\u001b[0m\u001b[1;33m\u001b[0m\u001b[0m\n",
      "\u001b[1;32m~\\Anaconda3\\lib\\site-packages\\pandas\\core\\generic.py\u001b[0m in \u001b[0;36mdrop\u001b[1;34m(self, labels, axis, index, columns, level, inplace, errors)\u001b[0m\n\u001b[0;32m   4148\u001b[0m         \u001b[1;32mfor\u001b[0m \u001b[0maxis\u001b[0m\u001b[1;33m,\u001b[0m \u001b[0mlabels\u001b[0m \u001b[1;32min\u001b[0m \u001b[0maxes\u001b[0m\u001b[1;33m.\u001b[0m\u001b[0mitems\u001b[0m\u001b[1;33m(\u001b[0m\u001b[1;33m)\u001b[0m\u001b[1;33m:\u001b[0m\u001b[1;33m\u001b[0m\u001b[1;33m\u001b[0m\u001b[0m\n\u001b[0;32m   4149\u001b[0m             \u001b[1;32mif\u001b[0m \u001b[0mlabels\u001b[0m \u001b[1;32mis\u001b[0m \u001b[1;32mnot\u001b[0m \u001b[1;32mNone\u001b[0m\u001b[1;33m:\u001b[0m\u001b[1;33m\u001b[0m\u001b[1;33m\u001b[0m\u001b[0m\n\u001b[1;32m-> 4150\u001b[1;33m                 \u001b[0mobj\u001b[0m \u001b[1;33m=\u001b[0m \u001b[0mobj\u001b[0m\u001b[1;33m.\u001b[0m\u001b[0m_drop_axis\u001b[0m\u001b[1;33m(\u001b[0m\u001b[0mlabels\u001b[0m\u001b[1;33m,\u001b[0m \u001b[0maxis\u001b[0m\u001b[1;33m,\u001b[0m \u001b[0mlevel\u001b[0m\u001b[1;33m=\u001b[0m\u001b[0mlevel\u001b[0m\u001b[1;33m,\u001b[0m \u001b[0merrors\u001b[0m\u001b[1;33m=\u001b[0m\u001b[0merrors\u001b[0m\u001b[1;33m)\u001b[0m\u001b[1;33m\u001b[0m\u001b[1;33m\u001b[0m\u001b[0m\n\u001b[0m\u001b[0;32m   4151\u001b[0m \u001b[1;33m\u001b[0m\u001b[0m\n\u001b[0;32m   4152\u001b[0m         \u001b[1;32mif\u001b[0m \u001b[0minplace\u001b[0m\u001b[1;33m:\u001b[0m\u001b[1;33m\u001b[0m\u001b[1;33m\u001b[0m\u001b[0m\n",
      "\u001b[1;32m~\\Anaconda3\\lib\\site-packages\\pandas\\core\\generic.py\u001b[0m in \u001b[0;36m_drop_axis\u001b[1;34m(self, labels, axis, level, errors)\u001b[0m\n\u001b[0;32m   4183\u001b[0m                 \u001b[0mnew_axis\u001b[0m \u001b[1;33m=\u001b[0m \u001b[0maxis\u001b[0m\u001b[1;33m.\u001b[0m\u001b[0mdrop\u001b[0m\u001b[1;33m(\u001b[0m\u001b[0mlabels\u001b[0m\u001b[1;33m,\u001b[0m \u001b[0mlevel\u001b[0m\u001b[1;33m=\u001b[0m\u001b[0mlevel\u001b[0m\u001b[1;33m,\u001b[0m \u001b[0merrors\u001b[0m\u001b[1;33m=\u001b[0m\u001b[0merrors\u001b[0m\u001b[1;33m)\u001b[0m\u001b[1;33m\u001b[0m\u001b[1;33m\u001b[0m\u001b[0m\n\u001b[0;32m   4184\u001b[0m             \u001b[1;32melse\u001b[0m\u001b[1;33m:\u001b[0m\u001b[1;33m\u001b[0m\u001b[1;33m\u001b[0m\u001b[0m\n\u001b[1;32m-> 4185\u001b[1;33m                 \u001b[0mnew_axis\u001b[0m \u001b[1;33m=\u001b[0m \u001b[0maxis\u001b[0m\u001b[1;33m.\u001b[0m\u001b[0mdrop\u001b[0m\u001b[1;33m(\u001b[0m\u001b[0mlabels\u001b[0m\u001b[1;33m,\u001b[0m \u001b[0merrors\u001b[0m\u001b[1;33m=\u001b[0m\u001b[0merrors\u001b[0m\u001b[1;33m)\u001b[0m\u001b[1;33m\u001b[0m\u001b[1;33m\u001b[0m\u001b[0m\n\u001b[0m\u001b[0;32m   4186\u001b[0m             \u001b[0mresult\u001b[0m \u001b[1;33m=\u001b[0m \u001b[0mself\u001b[0m\u001b[1;33m.\u001b[0m\u001b[0mreindex\u001b[0m\u001b[1;33m(\u001b[0m\u001b[1;33m**\u001b[0m\u001b[1;33m{\u001b[0m\u001b[0maxis_name\u001b[0m\u001b[1;33m:\u001b[0m \u001b[0mnew_axis\u001b[0m\u001b[1;33m}\u001b[0m\u001b[1;33m)\u001b[0m\u001b[1;33m\u001b[0m\u001b[1;33m\u001b[0m\u001b[0m\n\u001b[0;32m   4187\u001b[0m \u001b[1;33m\u001b[0m\u001b[0m\n",
      "\u001b[1;32m~\\Anaconda3\\lib\\site-packages\\pandas\\core\\indexes\\base.py\u001b[0m in \u001b[0;36mdrop\u001b[1;34m(self, labels, errors)\u001b[0m\n\u001b[0;32m   6015\u001b[0m         \u001b[1;32mif\u001b[0m \u001b[0mmask\u001b[0m\u001b[1;33m.\u001b[0m\u001b[0many\u001b[0m\u001b[1;33m(\u001b[0m\u001b[1;33m)\u001b[0m\u001b[1;33m:\u001b[0m\u001b[1;33m\u001b[0m\u001b[1;33m\u001b[0m\u001b[0m\n\u001b[0;32m   6016\u001b[0m             \u001b[1;32mif\u001b[0m \u001b[0merrors\u001b[0m \u001b[1;33m!=\u001b[0m \u001b[1;34m\"ignore\"\u001b[0m\u001b[1;33m:\u001b[0m\u001b[1;33m\u001b[0m\u001b[1;33m\u001b[0m\u001b[0m\n\u001b[1;32m-> 6017\u001b[1;33m                 \u001b[1;32mraise\u001b[0m \u001b[0mKeyError\u001b[0m\u001b[1;33m(\u001b[0m\u001b[1;34mf\"{labels[mask]} not found in axis\"\u001b[0m\u001b[1;33m)\u001b[0m\u001b[1;33m\u001b[0m\u001b[1;33m\u001b[0m\u001b[0m\n\u001b[0m\u001b[0;32m   6018\u001b[0m             \u001b[0mindexer\u001b[0m \u001b[1;33m=\u001b[0m \u001b[0mindexer\u001b[0m\u001b[1;33m[\u001b[0m\u001b[1;33m~\u001b[0m\u001b[0mmask\u001b[0m\u001b[1;33m]\u001b[0m\u001b[1;33m\u001b[0m\u001b[1;33m\u001b[0m\u001b[0m\n\u001b[0;32m   6019\u001b[0m         \u001b[1;32mreturn\u001b[0m \u001b[0mself\u001b[0m\u001b[1;33m.\u001b[0m\u001b[0mdelete\u001b[0m\u001b[1;33m(\u001b[0m\u001b[0mindexer\u001b[0m\u001b[1;33m)\u001b[0m\u001b[1;33m\u001b[0m\u001b[1;33m\u001b[0m\u001b[0m\n",
      "\u001b[1;31mKeyError\u001b[0m: \"['UDI' 'Product ID' 'Type'] not found in axis\""
     ]
    }
   ],
   "source": [
    "x_new.drop(['UDI', 'Product ID', 'Type'], axis=1, inplace=True)"
   ]
  },
  {
   "cell_type": "code",
   "execution_count": 363,
   "id": "ff37e11b",
   "metadata": {},
   "outputs": [
    {
     "data": {
      "text/html": [
       "<div>\n",
       "<style scoped>\n",
       "    .dataframe tbody tr th:only-of-type {\n",
       "        vertical-align: middle;\n",
       "    }\n",
       "\n",
       "    .dataframe tbody tr th {\n",
       "        vertical-align: top;\n",
       "    }\n",
       "\n",
       "    .dataframe thead th {\n",
       "        text-align: right;\n",
       "    }\n",
       "</style>\n",
       "<table border=\"1\" class=\"dataframe\">\n",
       "  <thead>\n",
       "    <tr style=\"text-align: right;\">\n",
       "      <th></th>\n",
       "      <th>Air temperature [K]</th>\n",
       "      <th>Process temperature [K]</th>\n",
       "      <th>Rotational speed [rpm]</th>\n",
       "      <th>Torque [Nm]</th>\n",
       "      <th>Tool wear [min]</th>\n",
       "      <th>Power</th>\n",
       "    </tr>\n",
       "  </thead>\n",
       "  <tbody>\n",
       "    <tr>\n",
       "      <th>0</th>\n",
       "      <td>304.1</td>\n",
       "      <td>313.2</td>\n",
       "      <td>2028</td>\n",
       "      <td>18.9</td>\n",
       "      <td>45</td>\n",
       "      <td>38329.2</td>\n",
       "    </tr>\n",
       "    <tr>\n",
       "      <th>1</th>\n",
       "      <td>297.7</td>\n",
       "      <td>308.7</td>\n",
       "      <td>1688</td>\n",
       "      <td>27.2</td>\n",
       "      <td>125</td>\n",
       "      <td>45913.6</td>\n",
       "    </tr>\n",
       "    <tr>\n",
       "      <th>2</th>\n",
       "      <td>300.5</td>\n",
       "      <td>309.4</td>\n",
       "      <td>1877</td>\n",
       "      <td>23.8</td>\n",
       "      <td>31</td>\n",
       "      <td>44672.6</td>\n",
       "    </tr>\n",
       "    <tr>\n",
       "      <th>3</th>\n",
       "      <td>300.5</td>\n",
       "      <td>309.3</td>\n",
       "      <td>1470</td>\n",
       "      <td>40.8</td>\n",
       "      <td>219</td>\n",
       "      <td>59976.0</td>\n",
       "    </tr>\n",
       "    <tr>\n",
       "      <th>4</th>\n",
       "      <td>301.6</td>\n",
       "      <td>310.6</td>\n",
       "      <td>1599</td>\n",
       "      <td>36.1</td>\n",
       "      <td>208</td>\n",
       "      <td>57723.9</td>\n",
       "    </tr>\n",
       "    <tr>\n",
       "      <th>...</th>\n",
       "      <td>...</td>\n",
       "      <td>...</td>\n",
       "      <td>...</td>\n",
       "      <td>...</td>\n",
       "      <td>...</td>\n",
       "      <td>...</td>\n",
       "    </tr>\n",
       "    <tr>\n",
       "      <th>10862</th>\n",
       "      <td>302.4</td>\n",
       "      <td>310.1</td>\n",
       "      <td>1379</td>\n",
       "      <td>48.9</td>\n",
       "      <td>107</td>\n",
       "      <td>67433.1</td>\n",
       "    </tr>\n",
       "    <tr>\n",
       "      <th>10863</th>\n",
       "      <td>302.0</td>\n",
       "      <td>310.5</td>\n",
       "      <td>1370</td>\n",
       "      <td>44.4</td>\n",
       "      <td>85</td>\n",
       "      <td>60828.0</td>\n",
       "    </tr>\n",
       "    <tr>\n",
       "      <th>10864</th>\n",
       "      <td>303.4</td>\n",
       "      <td>312.0</td>\n",
       "      <td>1521</td>\n",
       "      <td>35.9</td>\n",
       "      <td>215</td>\n",
       "      <td>54603.9</td>\n",
       "    </tr>\n",
       "    <tr>\n",
       "      <th>10865</th>\n",
       "      <td>301.8</td>\n",
       "      <td>310.3</td>\n",
       "      <td>1341</td>\n",
       "      <td>50.5</td>\n",
       "      <td>64</td>\n",
       "      <td>67720.5</td>\n",
       "    </tr>\n",
       "    <tr>\n",
       "      <th>10866</th>\n",
       "      <td>302.2</td>\n",
       "      <td>310.6</td>\n",
       "      <td>1348</td>\n",
       "      <td>48.4</td>\n",
       "      <td>161</td>\n",
       "      <td>65243.2</td>\n",
       "    </tr>\n",
       "  </tbody>\n",
       "</table>\n",
       "<p>10867 rows × 6 columns</p>\n",
       "</div>"
      ],
      "text/plain": [
       "       Air temperature [K]  Process temperature [K]  Rotational speed [rpm]  \\\n",
       "0                    304.1                    313.2                    2028   \n",
       "1                    297.7                    308.7                    1688   \n",
       "2                    300.5                    309.4                    1877   \n",
       "3                    300.5                    309.3                    1470   \n",
       "4                    301.6                    310.6                    1599   \n",
       "...                    ...                      ...                     ...   \n",
       "10862                302.4                    310.1                    1379   \n",
       "10863                302.0                    310.5                    1370   \n",
       "10864                303.4                    312.0                    1521   \n",
       "10865                301.8                    310.3                    1341   \n",
       "10866                302.2                    310.6                    1348   \n",
       "\n",
       "       Torque [Nm]  Tool wear [min]    Power  \n",
       "0             18.9               45  38329.2  \n",
       "1             27.2              125  45913.6  \n",
       "2             23.8               31  44672.6  \n",
       "3             40.8              219  59976.0  \n",
       "4             36.1              208  57723.9  \n",
       "...            ...              ...      ...  \n",
       "10862         48.9              107  67433.1  \n",
       "10863         44.4               85  60828.0  \n",
       "10864         35.9              215  54603.9  \n",
       "10865         50.5               64  67720.5  \n",
       "10866         48.4              161  65243.2  \n",
       "\n",
       "[10867 rows x 6 columns]"
      ]
     },
     "execution_count": 363,
     "metadata": {},
     "output_type": "execute_result"
    }
   ],
   "source": [
    "x_new"
   ]
  },
  {
   "cell_type": "code",
   "execution_count": 205,
   "id": "53c50c1c",
   "metadata": {},
   "outputs": [],
   "source": [
    "df_test = x_new.copy()"
   ]
  },
  {
   "cell_type": "code",
   "execution_count": 206,
   "id": "8fb97c4f",
   "metadata": {},
   "outputs": [],
   "source": [
    "df_test['Target'] = y_new.copy()"
   ]
  },
  {
   "cell_type": "code",
   "execution_count": 207,
   "id": "28798020",
   "metadata": {
    "scrolled": true
   },
   "outputs": [
    {
     "data": {
      "text/html": [
       "<div>\n",
       "<style scoped>\n",
       "    .dataframe tbody tr th:only-of-type {\n",
       "        vertical-align: middle;\n",
       "    }\n",
       "\n",
       "    .dataframe tbody tr th {\n",
       "        vertical-align: top;\n",
       "    }\n",
       "\n",
       "    .dataframe thead th {\n",
       "        text-align: right;\n",
       "    }\n",
       "</style>\n",
       "<table border=\"1\" class=\"dataframe\">\n",
       "  <thead>\n",
       "    <tr style=\"text-align: right;\">\n",
       "      <th></th>\n",
       "      <th>Air temperature [K]</th>\n",
       "      <th>Process temperature [K]</th>\n",
       "      <th>Rotational speed [rpm]</th>\n",
       "      <th>Torque [Nm]</th>\n",
       "      <th>Tool wear [min]</th>\n",
       "      <th>Power</th>\n",
       "      <th>Target</th>\n",
       "    </tr>\n",
       "  </thead>\n",
       "  <tbody>\n",
       "    <tr>\n",
       "      <th>10862</th>\n",
       "      <td>302.0</td>\n",
       "      <td>310.4</td>\n",
       "      <td>1212</td>\n",
       "      <td>55.6</td>\n",
       "      <td>79</td>\n",
       "      <td>67387.2</td>\n",
       "      <td>1</td>\n",
       "    </tr>\n",
       "    <tr>\n",
       "      <th>10863</th>\n",
       "      <td>302.6</td>\n",
       "      <td>311.0</td>\n",
       "      <td>1284</td>\n",
       "      <td>68.0</td>\n",
       "      <td>114</td>\n",
       "      <td>87312.0</td>\n",
       "      <td>1</td>\n",
       "    </tr>\n",
       "    <tr>\n",
       "      <th>10864</th>\n",
       "      <td>301.6</td>\n",
       "      <td>310.6</td>\n",
       "      <td>1309</td>\n",
       "      <td>65.8</td>\n",
       "      <td>75</td>\n",
       "      <td>86132.2</td>\n",
       "      <td>1</td>\n",
       "    </tr>\n",
       "    <tr>\n",
       "      <th>10865</th>\n",
       "      <td>302.6</td>\n",
       "      <td>310.2</td>\n",
       "      <td>1325</td>\n",
       "      <td>62.4</td>\n",
       "      <td>92</td>\n",
       "      <td>82680.0</td>\n",
       "      <td>1</td>\n",
       "    </tr>\n",
       "    <tr>\n",
       "      <th>10866</th>\n",
       "      <td>302.2</td>\n",
       "      <td>311.3</td>\n",
       "      <td>1530</td>\n",
       "      <td>37.3</td>\n",
       "      <td>207</td>\n",
       "      <td>57069.0</td>\n",
       "      <td>1</td>\n",
       "    </tr>\n",
       "  </tbody>\n",
       "</table>\n",
       "</div>"
      ],
      "text/plain": [
       "       Air temperature [K]  Process temperature [K]  Rotational speed [rpm]  \\\n",
       "10862                302.0                    310.4                    1212   \n",
       "10863                302.6                    311.0                    1284   \n",
       "10864                301.6                    310.6                    1309   \n",
       "10865                302.6                    310.2                    1325   \n",
       "10866                302.2                    311.3                    1530   \n",
       "\n",
       "       Torque [Nm]  Tool wear [min]    Power  Target  \n",
       "10862         55.6               79  67387.2       1  \n",
       "10863         68.0              114  87312.0       1  \n",
       "10864         65.8               75  86132.2       1  \n",
       "10865         62.4               92  82680.0       1  \n",
       "10866         37.3              207  57069.0       1  "
      ]
     },
     "execution_count": 207,
     "metadata": {},
     "output_type": "execute_result"
    }
   ],
   "source": [
    "df_test.tail()"
   ]
  },
  {
   "cell_type": "code",
   "execution_count": 208,
   "id": "768ead0c",
   "metadata": {
    "scrolled": true
   },
   "outputs": [
    {
     "data": {
      "text/html": [
       "<div>\n",
       "<style scoped>\n",
       "    .dataframe tbody tr th:only-of-type {\n",
       "        vertical-align: middle;\n",
       "    }\n",
       "\n",
       "    .dataframe tbody tr th {\n",
       "        vertical-align: top;\n",
       "    }\n",
       "\n",
       "    .dataframe thead th {\n",
       "        text-align: right;\n",
       "    }\n",
       "</style>\n",
       "<table border=\"1\" class=\"dataframe\">\n",
       "  <thead>\n",
       "    <tr style=\"text-align: right;\">\n",
       "      <th></th>\n",
       "      <th>Air temperature [K]</th>\n",
       "      <th>Process temperature [K]</th>\n",
       "      <th>Rotational speed [rpm]</th>\n",
       "      <th>Torque [Nm]</th>\n",
       "      <th>Tool wear [min]</th>\n",
       "      <th>Power</th>\n",
       "    </tr>\n",
       "  </thead>\n",
       "  <tbody>\n",
       "    <tr>\n",
       "      <th>0</th>\n",
       "      <td>296.9</td>\n",
       "      <td>307.5</td>\n",
       "      <td>1397</td>\n",
       "      <td>48.3</td>\n",
       "      <td>22</td>\n",
       "      <td>67475.1</td>\n",
       "    </tr>\n",
       "    <tr>\n",
       "      <th>1</th>\n",
       "      <td>297.2</td>\n",
       "      <td>308.5</td>\n",
       "      <td>1584</td>\n",
       "      <td>40.0</td>\n",
       "      <td>4</td>\n",
       "      <td>63360.0</td>\n",
       "    </tr>\n",
       "    <tr>\n",
       "      <th>2</th>\n",
       "      <td>297.7</td>\n",
       "      <td>308.4</td>\n",
       "      <td>1487</td>\n",
       "      <td>41.4</td>\n",
       "      <td>84</td>\n",
       "      <td>61561.8</td>\n",
       "    </tr>\n",
       "    <tr>\n",
       "      <th>3</th>\n",
       "      <td>298.4</td>\n",
       "      <td>309.7</td>\n",
       "      <td>1679</td>\n",
       "      <td>33.3</td>\n",
       "      <td>167</td>\n",
       "      <td>55910.7</td>\n",
       "    </tr>\n",
       "    <tr>\n",
       "      <th>4</th>\n",
       "      <td>301.4</td>\n",
       "      <td>310.7</td>\n",
       "      <td>1639</td>\n",
       "      <td>29.8</td>\n",
       "      <td>127</td>\n",
       "      <td>48842.2</td>\n",
       "    </tr>\n",
       "    <tr>\n",
       "      <th>...</th>\n",
       "      <td>...</td>\n",
       "      <td>...</td>\n",
       "      <td>...</td>\n",
       "      <td>...</td>\n",
       "      <td>...</td>\n",
       "      <td>...</td>\n",
       "    </tr>\n",
       "    <tr>\n",
       "      <th>10862</th>\n",
       "      <td>302.0</td>\n",
       "      <td>310.4</td>\n",
       "      <td>1212</td>\n",
       "      <td>55.6</td>\n",
       "      <td>79</td>\n",
       "      <td>67387.2</td>\n",
       "    </tr>\n",
       "    <tr>\n",
       "      <th>10863</th>\n",
       "      <td>302.6</td>\n",
       "      <td>311.0</td>\n",
       "      <td>1284</td>\n",
       "      <td>68.0</td>\n",
       "      <td>114</td>\n",
       "      <td>87312.0</td>\n",
       "    </tr>\n",
       "    <tr>\n",
       "      <th>10864</th>\n",
       "      <td>301.6</td>\n",
       "      <td>310.6</td>\n",
       "      <td>1309</td>\n",
       "      <td>65.8</td>\n",
       "      <td>75</td>\n",
       "      <td>86132.2</td>\n",
       "    </tr>\n",
       "    <tr>\n",
       "      <th>10865</th>\n",
       "      <td>302.6</td>\n",
       "      <td>310.2</td>\n",
       "      <td>1325</td>\n",
       "      <td>62.4</td>\n",
       "      <td>92</td>\n",
       "      <td>82680.0</td>\n",
       "    </tr>\n",
       "    <tr>\n",
       "      <th>10866</th>\n",
       "      <td>302.2</td>\n",
       "      <td>311.3</td>\n",
       "      <td>1530</td>\n",
       "      <td>37.3</td>\n",
       "      <td>207</td>\n",
       "      <td>57069.0</td>\n",
       "    </tr>\n",
       "  </tbody>\n",
       "</table>\n",
       "<p>10867 rows × 6 columns</p>\n",
       "</div>"
      ],
      "text/plain": [
       "       Air temperature [K]  Process temperature [K]  Rotational speed [rpm]  \\\n",
       "0                    296.9                    307.5                    1397   \n",
       "1                    297.2                    308.5                    1584   \n",
       "2                    297.7                    308.4                    1487   \n",
       "3                    298.4                    309.7                    1679   \n",
       "4                    301.4                    310.7                    1639   \n",
       "...                    ...                      ...                     ...   \n",
       "10862                302.0                    310.4                    1212   \n",
       "10863                302.6                    311.0                    1284   \n",
       "10864                301.6                    310.6                    1309   \n",
       "10865                302.6                    310.2                    1325   \n",
       "10866                302.2                    311.3                    1530   \n",
       "\n",
       "       Torque [Nm]  Tool wear [min]    Power  \n",
       "0             48.3               22  67475.1  \n",
       "1             40.0                4  63360.0  \n",
       "2             41.4               84  61561.8  \n",
       "3             33.3              167  55910.7  \n",
       "4             29.8              127  48842.2  \n",
       "...            ...              ...      ...  \n",
       "10862         55.6               79  67387.2  \n",
       "10863         68.0              114  87312.0  \n",
       "10864         65.8               75  86132.2  \n",
       "10865         62.4               92  82680.0  \n",
       "10866         37.3              207  57069.0  \n",
       "\n",
       "[10867 rows x 6 columns]"
      ]
     },
     "execution_count": 208,
     "metadata": {},
     "output_type": "execute_result"
    }
   ],
   "source": [
    "x_new"
   ]
  },
  {
   "cell_type": "code",
   "execution_count": 209,
   "id": "03dcadff",
   "metadata": {},
   "outputs": [],
   "source": [
    "from sklearn.model_selection import train_test_split"
   ]
  },
  {
   "cell_type": "code",
   "execution_count": 210,
   "id": "a357e7db",
   "metadata": {},
   "outputs": [
    {
     "data": {
      "text/html": [
       "<div>\n",
       "<style scoped>\n",
       "    .dataframe tbody tr th:only-of-type {\n",
       "        vertical-align: middle;\n",
       "    }\n",
       "\n",
       "    .dataframe tbody tr th {\n",
       "        vertical-align: top;\n",
       "    }\n",
       "\n",
       "    .dataframe thead th {\n",
       "        text-align: right;\n",
       "    }\n",
       "</style>\n",
       "<table border=\"1\" class=\"dataframe\">\n",
       "  <thead>\n",
       "    <tr style=\"text-align: right;\">\n",
       "      <th></th>\n",
       "      <th>Air temperature [K]</th>\n",
       "      <th>Process temperature [K]</th>\n",
       "      <th>Rotational speed [rpm]</th>\n",
       "      <th>Torque [Nm]</th>\n",
       "      <th>Tool wear [min]</th>\n",
       "      <th>Power</th>\n",
       "    </tr>\n",
       "  </thead>\n",
       "  <tbody>\n",
       "    <tr>\n",
       "      <th>0</th>\n",
       "      <td>296.9</td>\n",
       "      <td>307.5</td>\n",
       "      <td>1397</td>\n",
       "      <td>48.3</td>\n",
       "      <td>22</td>\n",
       "      <td>67475.1</td>\n",
       "    </tr>\n",
       "    <tr>\n",
       "      <th>1</th>\n",
       "      <td>297.2</td>\n",
       "      <td>308.5</td>\n",
       "      <td>1584</td>\n",
       "      <td>40.0</td>\n",
       "      <td>4</td>\n",
       "      <td>63360.0</td>\n",
       "    </tr>\n",
       "    <tr>\n",
       "      <th>2</th>\n",
       "      <td>297.7</td>\n",
       "      <td>308.4</td>\n",
       "      <td>1487</td>\n",
       "      <td>41.4</td>\n",
       "      <td>84</td>\n",
       "      <td>61561.8</td>\n",
       "    </tr>\n",
       "    <tr>\n",
       "      <th>3</th>\n",
       "      <td>298.4</td>\n",
       "      <td>309.7</td>\n",
       "      <td>1679</td>\n",
       "      <td>33.3</td>\n",
       "      <td>167</td>\n",
       "      <td>55910.7</td>\n",
       "    </tr>\n",
       "    <tr>\n",
       "      <th>4</th>\n",
       "      <td>301.4</td>\n",
       "      <td>310.7</td>\n",
       "      <td>1639</td>\n",
       "      <td>29.8</td>\n",
       "      <td>127</td>\n",
       "      <td>48842.2</td>\n",
       "    </tr>\n",
       "    <tr>\n",
       "      <th>...</th>\n",
       "      <td>...</td>\n",
       "      <td>...</td>\n",
       "      <td>...</td>\n",
       "      <td>...</td>\n",
       "      <td>...</td>\n",
       "      <td>...</td>\n",
       "    </tr>\n",
       "    <tr>\n",
       "      <th>10862</th>\n",
       "      <td>302.0</td>\n",
       "      <td>310.4</td>\n",
       "      <td>1212</td>\n",
       "      <td>55.6</td>\n",
       "      <td>79</td>\n",
       "      <td>67387.2</td>\n",
       "    </tr>\n",
       "    <tr>\n",
       "      <th>10863</th>\n",
       "      <td>302.6</td>\n",
       "      <td>311.0</td>\n",
       "      <td>1284</td>\n",
       "      <td>68.0</td>\n",
       "      <td>114</td>\n",
       "      <td>87312.0</td>\n",
       "    </tr>\n",
       "    <tr>\n",
       "      <th>10864</th>\n",
       "      <td>301.6</td>\n",
       "      <td>310.6</td>\n",
       "      <td>1309</td>\n",
       "      <td>65.8</td>\n",
       "      <td>75</td>\n",
       "      <td>86132.2</td>\n",
       "    </tr>\n",
       "    <tr>\n",
       "      <th>10865</th>\n",
       "      <td>302.6</td>\n",
       "      <td>310.2</td>\n",
       "      <td>1325</td>\n",
       "      <td>62.4</td>\n",
       "      <td>92</td>\n",
       "      <td>82680.0</td>\n",
       "    </tr>\n",
       "    <tr>\n",
       "      <th>10866</th>\n",
       "      <td>302.2</td>\n",
       "      <td>311.3</td>\n",
       "      <td>1530</td>\n",
       "      <td>37.3</td>\n",
       "      <td>207</td>\n",
       "      <td>57069.0</td>\n",
       "    </tr>\n",
       "  </tbody>\n",
       "</table>\n",
       "<p>10867 rows × 6 columns</p>\n",
       "</div>"
      ],
      "text/plain": [
       "       Air temperature [K]  Process temperature [K]  Rotational speed [rpm]  \\\n",
       "0                    296.9                    307.5                    1397   \n",
       "1                    297.2                    308.5                    1584   \n",
       "2                    297.7                    308.4                    1487   \n",
       "3                    298.4                    309.7                    1679   \n",
       "4                    301.4                    310.7                    1639   \n",
       "...                    ...                      ...                     ...   \n",
       "10862                302.0                    310.4                    1212   \n",
       "10863                302.6                    311.0                    1284   \n",
       "10864                301.6                    310.6                    1309   \n",
       "10865                302.6                    310.2                    1325   \n",
       "10866                302.2                    311.3                    1530   \n",
       "\n",
       "       Torque [Nm]  Tool wear [min]    Power  \n",
       "0             48.3               22  67475.1  \n",
       "1             40.0                4  63360.0  \n",
       "2             41.4               84  61561.8  \n",
       "3             33.3              167  55910.7  \n",
       "4             29.8              127  48842.2  \n",
       "...            ...              ...      ...  \n",
       "10862         55.6               79  67387.2  \n",
       "10863         68.0              114  87312.0  \n",
       "10864         65.8               75  86132.2  \n",
       "10865         62.4               92  82680.0  \n",
       "10866         37.3              207  57069.0  \n",
       "\n",
       "[10867 rows x 6 columns]"
      ]
     },
     "execution_count": 210,
     "metadata": {},
     "output_type": "execute_result"
    }
   ],
   "source": [
    "x_new"
   ]
  },
  {
   "cell_type": "code",
   "execution_count": 211,
   "id": "ec5de0d6",
   "metadata": {},
   "outputs": [
    {
     "data": {
      "text/plain": [
       "0        0\n",
       "1        0\n",
       "2        0\n",
       "3        0\n",
       "4        0\n",
       "        ..\n",
       "10862    1\n",
       "10863    1\n",
       "10864    1\n",
       "10865    1\n",
       "10866    1\n",
       "Name: Target, Length: 10867, dtype: int64"
      ]
     },
     "execution_count": 211,
     "metadata": {},
     "output_type": "execute_result"
    }
   ],
   "source": [
    "y_new"
   ]
  },
  {
   "cell_type": "code",
   "execution_count": 212,
   "id": "0ba06505",
   "metadata": {},
   "outputs": [],
   "source": [
    "#x_new.drop(['Rotational speed [rpm]'], axis=1, inplace=True)"
   ]
  },
  {
   "cell_type": "code",
   "execution_count": 213,
   "id": "11eb0591",
   "metadata": {},
   "outputs": [],
   "source": [
    "x_train, x_test, y_train, y_test = train_test_split(x_new, y_new, test_size = 0.3)"
   ]
  },
  {
   "cell_type": "code",
   "execution_count": 214,
   "id": "ba9b1c04",
   "metadata": {},
   "outputs": [
    {
     "data": {
      "text/html": [
       "<div>\n",
       "<style scoped>\n",
       "    .dataframe tbody tr th:only-of-type {\n",
       "        vertical-align: middle;\n",
       "    }\n",
       "\n",
       "    .dataframe tbody tr th {\n",
       "        vertical-align: top;\n",
       "    }\n",
       "\n",
       "    .dataframe thead th {\n",
       "        text-align: right;\n",
       "    }\n",
       "</style>\n",
       "<table border=\"1\" class=\"dataframe\">\n",
       "  <thead>\n",
       "    <tr style=\"text-align: right;\">\n",
       "      <th></th>\n",
       "      <th>Air temperature [K]</th>\n",
       "      <th>Process temperature [K]</th>\n",
       "      <th>Rotational speed [rpm]</th>\n",
       "      <th>Torque [Nm]</th>\n",
       "      <th>Tool wear [min]</th>\n",
       "      <th>Power</th>\n",
       "    </tr>\n",
       "  </thead>\n",
       "  <tbody>\n",
       "    <tr>\n",
       "      <th>0</th>\n",
       "      <td>296.9</td>\n",
       "      <td>307.5</td>\n",
       "      <td>1397</td>\n",
       "      <td>48.3</td>\n",
       "      <td>22</td>\n",
       "      <td>67475.1</td>\n",
       "    </tr>\n",
       "    <tr>\n",
       "      <th>1</th>\n",
       "      <td>297.2</td>\n",
       "      <td>308.5</td>\n",
       "      <td>1584</td>\n",
       "      <td>40.0</td>\n",
       "      <td>4</td>\n",
       "      <td>63360.0</td>\n",
       "    </tr>\n",
       "    <tr>\n",
       "      <th>2</th>\n",
       "      <td>297.7</td>\n",
       "      <td>308.4</td>\n",
       "      <td>1487</td>\n",
       "      <td>41.4</td>\n",
       "      <td>84</td>\n",
       "      <td>61561.8</td>\n",
       "    </tr>\n",
       "    <tr>\n",
       "      <th>3</th>\n",
       "      <td>298.4</td>\n",
       "      <td>309.7</td>\n",
       "      <td>1679</td>\n",
       "      <td>33.3</td>\n",
       "      <td>167</td>\n",
       "      <td>55910.7</td>\n",
       "    </tr>\n",
       "    <tr>\n",
       "      <th>4</th>\n",
       "      <td>301.4</td>\n",
       "      <td>310.7</td>\n",
       "      <td>1639</td>\n",
       "      <td>29.8</td>\n",
       "      <td>127</td>\n",
       "      <td>48842.2</td>\n",
       "    </tr>\n",
       "    <tr>\n",
       "      <th>...</th>\n",
       "      <td>...</td>\n",
       "      <td>...</td>\n",
       "      <td>...</td>\n",
       "      <td>...</td>\n",
       "      <td>...</td>\n",
       "      <td>...</td>\n",
       "    </tr>\n",
       "    <tr>\n",
       "      <th>10862</th>\n",
       "      <td>302.0</td>\n",
       "      <td>310.4</td>\n",
       "      <td>1212</td>\n",
       "      <td>55.6</td>\n",
       "      <td>79</td>\n",
       "      <td>67387.2</td>\n",
       "    </tr>\n",
       "    <tr>\n",
       "      <th>10863</th>\n",
       "      <td>302.6</td>\n",
       "      <td>311.0</td>\n",
       "      <td>1284</td>\n",
       "      <td>68.0</td>\n",
       "      <td>114</td>\n",
       "      <td>87312.0</td>\n",
       "    </tr>\n",
       "    <tr>\n",
       "      <th>10864</th>\n",
       "      <td>301.6</td>\n",
       "      <td>310.6</td>\n",
       "      <td>1309</td>\n",
       "      <td>65.8</td>\n",
       "      <td>75</td>\n",
       "      <td>86132.2</td>\n",
       "    </tr>\n",
       "    <tr>\n",
       "      <th>10865</th>\n",
       "      <td>302.6</td>\n",
       "      <td>310.2</td>\n",
       "      <td>1325</td>\n",
       "      <td>62.4</td>\n",
       "      <td>92</td>\n",
       "      <td>82680.0</td>\n",
       "    </tr>\n",
       "    <tr>\n",
       "      <th>10866</th>\n",
       "      <td>302.2</td>\n",
       "      <td>311.3</td>\n",
       "      <td>1530</td>\n",
       "      <td>37.3</td>\n",
       "      <td>207</td>\n",
       "      <td>57069.0</td>\n",
       "    </tr>\n",
       "  </tbody>\n",
       "</table>\n",
       "<p>10867 rows × 6 columns</p>\n",
       "</div>"
      ],
      "text/plain": [
       "       Air temperature [K]  Process temperature [K]  Rotational speed [rpm]  \\\n",
       "0                    296.9                    307.5                    1397   \n",
       "1                    297.2                    308.5                    1584   \n",
       "2                    297.7                    308.4                    1487   \n",
       "3                    298.4                    309.7                    1679   \n",
       "4                    301.4                    310.7                    1639   \n",
       "...                    ...                      ...                     ...   \n",
       "10862                302.0                    310.4                    1212   \n",
       "10863                302.6                    311.0                    1284   \n",
       "10864                301.6                    310.6                    1309   \n",
       "10865                302.6                    310.2                    1325   \n",
       "10866                302.2                    311.3                    1530   \n",
       "\n",
       "       Torque [Nm]  Tool wear [min]    Power  \n",
       "0             48.3               22  67475.1  \n",
       "1             40.0                4  63360.0  \n",
       "2             41.4               84  61561.8  \n",
       "3             33.3              167  55910.7  \n",
       "4             29.8              127  48842.2  \n",
       "...            ...              ...      ...  \n",
       "10862         55.6               79  67387.2  \n",
       "10863         68.0              114  87312.0  \n",
       "10864         65.8               75  86132.2  \n",
       "10865         62.4               92  82680.0  \n",
       "10866         37.3              207  57069.0  \n",
       "\n",
       "[10867 rows x 6 columns]"
      ]
     },
     "execution_count": 214,
     "metadata": {},
     "output_type": "execute_result"
    }
   ],
   "source": [
    "x_new"
   ]
  },
  {
   "cell_type": "markdown",
   "id": "153aabba",
   "metadata": {},
   "source": [
    "## Searching for model to get best accuracy"
   ]
  },
  {
   "cell_type": "markdown",
   "id": "63002dd2",
   "metadata": {},
   "source": [
    "## 1. Logistic Regression"
   ]
  },
  {
   "cell_type": "code",
   "execution_count": 215,
   "id": "bcb1af9c",
   "metadata": {},
   "outputs": [],
   "source": [
    "from sklearn.linear_model import LogisticRegression"
   ]
  },
  {
   "cell_type": "code",
   "execution_count": 216,
   "id": "370a2501",
   "metadata": {},
   "outputs": [],
   "source": [
    "lr = LogisticRegression(solver='lbfgs', random_state=0, verbose=1)"
   ]
  },
  {
   "cell_type": "code",
   "execution_count": 217,
   "id": "89a62b39",
   "metadata": {},
   "outputs": [
    {
     "name": "stderr",
     "output_type": "stream",
     "text": [
      "[Parallel(n_jobs=1)]: Using backend SequentialBackend with 1 concurrent workers.\n",
      "[Parallel(n_jobs=1)]: Done   1 out of   1 | elapsed:    0.0s finished\n"
     ]
    },
    {
     "data": {
      "text/plain": [
       "LogisticRegression(random_state=0, verbose=1)"
      ]
     },
     "execution_count": 217,
     "metadata": {},
     "output_type": "execute_result"
    }
   ],
   "source": [
    "lr.fit(x_train, y_train)"
   ]
  },
  {
   "cell_type": "code",
   "execution_count": 218,
   "id": "f8bfad13",
   "metadata": {},
   "outputs": [
    {
     "data": {
      "text/plain": [
       "0.8344066237350506"
      ]
     },
     "execution_count": 218,
     "metadata": {},
     "output_type": "execute_result"
    }
   ],
   "source": [
    "lr.score(x_test, y_test)"
   ]
  },
  {
   "cell_type": "code",
   "execution_count": 219,
   "id": "9d712709",
   "metadata": {},
   "outputs": [],
   "source": [
    "y_pred_lr = lr.predict(x_test)"
   ]
  },
  {
   "cell_type": "code",
   "execution_count": 220,
   "id": "341947ab",
   "metadata": {},
   "outputs": [
    {
     "name": "stdout",
     "output_type": "stream",
     "text": [
      "TEST ACCURACY OF THE MODEL:  0.8344066237350506\n"
     ]
    }
   ],
   "source": [
    "from sklearn import metrics \n",
    "print(\"TEST ACCURACY OF THE MODEL: \", metrics.accuracy_score(y_test, y_pred_lr))"
   ]
  },
  {
   "cell_type": "code",
   "execution_count": 221,
   "id": "064996ae",
   "metadata": {},
   "outputs": [],
   "source": [
    "y_pred_cm = lr.predict(x_new)"
   ]
  },
  {
   "cell_type": "code",
   "execution_count": 222,
   "id": "5e837b1a",
   "metadata": {},
   "outputs": [
    {
     "name": "stdout",
     "output_type": "stream",
     "text": [
      "[[5230  807]\n",
      " [ 975 3855]]\n"
     ]
    }
   ],
   "source": [
    "from sklearn.metrics import confusion_matrix\n",
    "cf_matrix_lr = confusion_matrix(y_new, y_pred_cm)\n",
    "print(cf_matrix_lr)"
   ]
  },
  {
   "cell_type": "code",
   "execution_count": 223,
   "id": "74c3635c",
   "metadata": {},
   "outputs": [
    {
     "data": {
      "text/plain": [
       "<AxesSubplot:>"
      ]
     },
     "execution_count": 223,
     "metadata": {},
     "output_type": "execute_result"
    },
    {
     "data": {
      "image/png": "[encoded data removed]",
      "text/plain": [
       "<Figure size 432x288 with 2 Axes>"
      ]
     },
     "metadata": {
      "needs_background": "light"
     },
     "output_type": "display_data"
    }
   ],
   "source": [
    "sns.heatmap(cf_matrix_lr/np.sum(cf_matrix_lr), annot=True, \n",
    "            fmt='.2%', cmap='Blues')"
   ]
  },
  {
   "cell_type": "code",
   "execution_count": 224,
   "id": "17199e9c",
   "metadata": {},
   "outputs": [
    {
     "data": {
      "text/html": [
       "<div>\n",
       "<style scoped>\n",
       "    .dataframe tbody tr th:only-of-type {\n",
       "        vertical-align: middle;\n",
       "    }\n",
       "\n",
       "    .dataframe tbody tr th {\n",
       "        vertical-align: top;\n",
       "    }\n",
       "\n",
       "    .dataframe thead th {\n",
       "        text-align: right;\n",
       "    }\n",
       "</style>\n",
       "<table border=\"1\" class=\"dataframe\">\n",
       "  <thead>\n",
       "    <tr style=\"text-align: right;\">\n",
       "      <th></th>\n",
       "      <th>Air temperature [K]</th>\n",
       "      <th>Process temperature [K]</th>\n",
       "      <th>Rotational speed [rpm]</th>\n",
       "      <th>Torque [Nm]</th>\n",
       "      <th>Tool wear [min]</th>\n",
       "      <th>Power</th>\n",
       "      <th>Target</th>\n",
       "    </tr>\n",
       "  </thead>\n",
       "  <tbody>\n",
       "    <tr>\n",
       "      <th>0</th>\n",
       "      <td>296.9</td>\n",
       "      <td>307.5</td>\n",
       "      <td>1397</td>\n",
       "      <td>48.3</td>\n",
       "      <td>22</td>\n",
       "      <td>67475.1</td>\n",
       "      <td>0</td>\n",
       "    </tr>\n",
       "    <tr>\n",
       "      <th>1</th>\n",
       "      <td>297.2</td>\n",
       "      <td>308.5</td>\n",
       "      <td>1584</td>\n",
       "      <td>40.0</td>\n",
       "      <td>4</td>\n",
       "      <td>63360.0</td>\n",
       "      <td>0</td>\n",
       "    </tr>\n",
       "    <tr>\n",
       "      <th>2</th>\n",
       "      <td>297.7</td>\n",
       "      <td>308.4</td>\n",
       "      <td>1487</td>\n",
       "      <td>41.4</td>\n",
       "      <td>84</td>\n",
       "      <td>61561.8</td>\n",
       "      <td>0</td>\n",
       "    </tr>\n",
       "    <tr>\n",
       "      <th>3</th>\n",
       "      <td>298.4</td>\n",
       "      <td>309.7</td>\n",
       "      <td>1679</td>\n",
       "      <td>33.3</td>\n",
       "      <td>167</td>\n",
       "      <td>55910.7</td>\n",
       "      <td>0</td>\n",
       "    </tr>\n",
       "    <tr>\n",
       "      <th>4</th>\n",
       "      <td>301.4</td>\n",
       "      <td>310.7</td>\n",
       "      <td>1639</td>\n",
       "      <td>29.8</td>\n",
       "      <td>127</td>\n",
       "      <td>48842.2</td>\n",
       "      <td>0</td>\n",
       "    </tr>\n",
       "  </tbody>\n",
       "</table>\n",
       "</div>"
      ],
      "text/plain": [
       "   Air temperature [K]  Process temperature [K]  Rotational speed [rpm]  \\\n",
       "0                296.9                    307.5                    1397   \n",
       "1                297.2                    308.5                    1584   \n",
       "2                297.7                    308.4                    1487   \n",
       "3                298.4                    309.7                    1679   \n",
       "4                301.4                    310.7                    1639   \n",
       "\n",
       "   Torque [Nm]  Tool wear [min]    Power  Target  \n",
       "0         48.3               22  67475.1       0  \n",
       "1         40.0                4  63360.0       0  \n",
       "2         41.4               84  61561.8       0  \n",
       "3         33.3              167  55910.7       0  \n",
       "4         29.8              127  48842.2       0  "
      ]
     },
     "execution_count": 224,
     "metadata": {},
     "output_type": "execute_result"
    }
   ],
   "source": [
    "df_test.head()"
   ]
  },
  {
   "cell_type": "code",
   "execution_count": 225,
   "id": "5e893fa4",
   "metadata": {
    "scrolled": true
   },
   "outputs": [
    {
     "data": {
      "text/plain": [
       "<AxesSubplot:xlabel='Torque [Nm]', ylabel='Target'>"
      ]
     },
     "execution_count": 225,
     "metadata": {},
     "output_type": "execute_result"
    },
    {
     "data": {
      "image/png": "[encoded data removed]",
      "text/plain": [
       "<Figure size 432x288 with 1 Axes>"
      ]
     },
     "metadata": {
      "needs_background": "light"
     },
     "output_type": "display_data"
    }
   ],
   "source": [
    "sns.regplot(x=df_test['Torque [Nm]'], y=df_test['Target'], data=df_test, logistic=True, ci=None)"
   ]
  },
  {
   "cell_type": "code",
   "execution_count": 226,
   "id": "d2d677d0",
   "metadata": {},
   "outputs": [
    {
     "data": {
      "text/plain": [
       "<AxesSubplot:xlabel='Power', ylabel='Target'>"
      ]
     },
     "execution_count": 226,
     "metadata": {},
     "output_type": "execute_result"
    },
    {
     "data": {
      "image/png": "[encoded data removed]",
      "text/plain": [
       "<Figure size 432x288 with 1 Axes>"
      ]
     },
     "metadata": {
      "needs_background": "light"
     },
     "output_type": "display_data"
    }
   ],
   "source": [
    "sns.regplot(x=df_test['Power'], y=df_test['Target'], data=df_test, logistic=True, ci=None)"
   ]
  },
  {
   "cell_type": "markdown",
   "id": "da933bdb",
   "metadata": {},
   "source": [
    "## 2. KNN"
   ]
  },
  {
   "cell_type": "code",
   "execution_count": 227,
   "id": "beefa972",
   "metadata": {},
   "outputs": [],
   "source": [
    "from sklearn.neighbors import KNeighborsClassifier"
   ]
  },
  {
   "cell_type": "code",
   "execution_count": 228,
   "id": "eb80529d",
   "metadata": {},
   "outputs": [
    {
     "name": "stdout",
     "output_type": "stream",
     "text": [
      "Maximum accuracy:- 0.983440662373505 at K = 0\n"
     ]
    },
    {
     "data": {
      "image/png": "[encoded data removed]",
      "text/plain": [
       "<Figure size 720x432 with 1 Axes>"
      ]
     },
     "metadata": {
      "needs_background": "light"
     },
     "output_type": "display_data"
    }
   ],
   "source": [
    "acc = []\n",
    "# Will take some time\n",
    "from sklearn import metrics\n",
    "for i in range(1,40):\n",
    "    neigh = KNeighborsClassifier(n_neighbors = i).fit(x_train,y_train)\n",
    "    yhat = neigh.predict(x_test)\n",
    "    acc.append(metrics.accuracy_score(y_test, yhat))\n",
    "    \n",
    "plt.figure(figsize=(10,6))\n",
    "plt.plot(range(1,40),acc,color = 'blue',linestyle='dashed', \n",
    "         marker='o',markerfacecolor='red', markersize=10)\n",
    "plt.title('accuracy vs. K Value')\n",
    "plt.xlabel('K')\n",
    "plt.ylabel('Accuracy')\n",
    "print(\"Maximum accuracy:-\",max(acc),\"at K =\",acc.index(max(acc)))"
   ]
  },
  {
   "cell_type": "code",
   "execution_count": 229,
   "id": "0542da87",
   "metadata": {},
   "outputs": [],
   "source": [
    "knn = KNeighborsClassifier(n_neighbors=2)"
   ]
  },
  {
   "cell_type": "code",
   "execution_count": 230,
   "id": "873326a9",
   "metadata": {},
   "outputs": [
    {
     "data": {
      "text/plain": [
       "KNeighborsClassifier(n_neighbors=2)"
      ]
     },
     "execution_count": 230,
     "metadata": {},
     "output_type": "execute_result"
    }
   ],
   "source": [
    "knn.fit(x_train, y_train)"
   ]
  },
  {
   "cell_type": "code",
   "execution_count": 231,
   "id": "122fc4d8",
   "metadata": {},
   "outputs": [
    {
     "name": "stdout",
     "output_type": "stream",
     "text": [
      "0.983440662373505\n"
     ]
    }
   ],
   "source": [
    "print(knn.score(x_test, y_test))"
   ]
  },
  {
   "cell_type": "code",
   "execution_count": 232,
   "id": "18b216e0",
   "metadata": {},
   "outputs": [],
   "source": [
    "y_pred_knn = knn.predict(x_new)"
   ]
  },
  {
   "cell_type": "code",
   "execution_count": 233,
   "id": "c98245c3",
   "metadata": {},
   "outputs": [
    {
     "name": "stdout",
     "output_type": "stream",
     "text": [
      "[[5983   54]\n",
      " [   0 4830]]\n"
     ]
    }
   ],
   "source": [
    "cm_matrix_knn = confusion_matrix(y_new, y_pred_knn)\n",
    "print(cm_matrix_knn)"
   ]
  },
  {
   "cell_type": "code",
   "execution_count": 234,
   "id": "59ae5237",
   "metadata": {},
   "outputs": [
    {
     "data": {
      "text/plain": [
       "<AxesSubplot:>"
      ]
     },
     "execution_count": 234,
     "metadata": {},
     "output_type": "execute_result"
    },
    {
     "data": {
      "image/png": "[encoded data removed]",
      "text/plain": [
       "<Figure size 432x288 with 2 Axes>"
      ]
     },
     "metadata": {
      "needs_background": "light"
     },
     "output_type": "display_data"
    }
   ],
   "source": [
    "sns.heatmap(cm_matrix_knn/np.sum(cm_matrix_knn), annot=True, \n",
    "            fmt='.2%', cmap='Blues')"
   ]
  },
  {
   "cell_type": "code",
   "execution_count": 235,
   "id": "7e05acd0",
   "metadata": {},
   "outputs": [
    {
     "ename": "NameError",
     "evalue": "name 'y' is not defined",
     "output_type": "error",
     "traceback": [
      "\u001b[1;31m---------------------------------------------------------------------------\u001b[0m",
      "\u001b[1;31mNameError\u001b[0m                                 Traceback (most recent call last)",
      "\u001b[1;32mC:\\Users\\214220~2\\AppData\\Local\\Temp/ipykernel_16140/712246753.py\u001b[0m in \u001b[0;36m<module>\u001b[1;34m\u001b[0m\n\u001b[0;32m      5\u001b[0m \u001b[0mcolors\u001b[0m \u001b[1;33m=\u001b[0m \u001b[1;33m(\u001b[0m\u001b[1;34m'red'\u001b[0m\u001b[1;33m,\u001b[0m \u001b[1;34m'blue'\u001b[0m\u001b[1;33m,\u001b[0m \u001b[1;34m'lightgreen'\u001b[0m\u001b[1;33m)\u001b[0m\u001b[1;33m\u001b[0m\u001b[1;33m\u001b[0m\u001b[0m\n\u001b[0;32m      6\u001b[0m \u001b[0mcmap\u001b[0m \u001b[1;33m=\u001b[0m \u001b[0mListedColormap\u001b[0m\u001b[1;33m(\u001b[0m\u001b[0mcolors\u001b[0m\u001b[1;33m[\u001b[0m\u001b[1;33m:\u001b[0m\u001b[0mlen\u001b[0m\u001b[1;33m(\u001b[0m\u001b[0mnp\u001b[0m\u001b[1;33m.\u001b[0m\u001b[0munique\u001b[0m\u001b[1;33m(\u001b[0m\u001b[0my_test\u001b[0m\u001b[1;33m)\u001b[0m\u001b[1;33m)\u001b[0m\u001b[1;33m]\u001b[0m\u001b[1;33m)\u001b[0m\u001b[1;33m\u001b[0m\u001b[1;33m\u001b[0m\u001b[0m\n\u001b[1;32m----> 7\u001b[1;33m \u001b[1;32mfor\u001b[0m \u001b[0midx\u001b[0m\u001b[1;33m,\u001b[0m \u001b[0mcl\u001b[0m \u001b[1;32min\u001b[0m \u001b[0menumerate\u001b[0m\u001b[1;33m(\u001b[0m\u001b[0mnp\u001b[0m\u001b[1;33m.\u001b[0m\u001b[0munique\u001b[0m\u001b[1;33m(\u001b[0m\u001b[0my\u001b[0m\u001b[1;33m)\u001b[0m\u001b[1;33m)\u001b[0m\u001b[1;33m:\u001b[0m\u001b[1;33m\u001b[0m\u001b[1;33m\u001b[0m\u001b[0m\n\u001b[0m\u001b[0;32m      8\u001b[0m     plt.scatter(x=X[y_new == cl, 0], y=x_new[y_new == cl, 1],\n\u001b[0;32m      9\u001b[0m                c=cmap(idx), marker=markers[idx], label=cl)\n",
      "\u001b[1;31mNameError\u001b[0m: name 'y' is not defined"
     ]
    }
   ],
   "source": [
    "from matplotlib.colors import ListedColormap\n",
    "import matplotlib.pyplot as plt\n",
    "\n",
    "markers = ('s', 'x', 'o')\n",
    "colors = ('red', 'blue', 'lightgreen')\n",
    "cmap = ListedColormap(colors[:len(np.unique(y_test))])\n",
    "for idx, cl in enumerate(np.unique(y)):\n",
    "    plt.scatter(x=X[y_new == cl, 0], y=x_new[y_new == cl, 1],\n",
    "               c=cmap(idx), marker=markers[idx], label=cl)"
   ]
  },
  {
   "cell_type": "code",
   "execution_count": 236,
   "id": "004c2171",
   "metadata": {},
   "outputs": [
    {
     "ename": "ModuleNotFoundError",
     "evalue": "No module named 'mlxtend'",
     "output_type": "error",
     "traceback": [
      "\u001b[1;31m---------------------------------------------------------------------------\u001b[0m",
      "\u001b[1;31mModuleNotFoundError\u001b[0m                       Traceback (most recent call last)",
      "\u001b[1;32mC:\\Users\\214220~2\\AppData\\Local\\Temp/ipykernel_16140/3302962721.py\u001b[0m in \u001b[0;36m<module>\u001b[1;34m\u001b[0m\n\u001b[0;32m      2\u001b[0m \u001b[1;32mimport\u001b[0m \u001b[0mpandas\u001b[0m \u001b[1;32mas\u001b[0m \u001b[0mpd\u001b[0m\u001b[1;33m\u001b[0m\u001b[1;33m\u001b[0m\u001b[0m\n\u001b[0;32m      3\u001b[0m \u001b[1;32mfrom\u001b[0m \u001b[0msklearn\u001b[0m \u001b[1;32mimport\u001b[0m \u001b[0mdatasets\u001b[0m\u001b[1;33m,\u001b[0m \u001b[0mneighbors\u001b[0m\u001b[1;33m\u001b[0m\u001b[1;33m\u001b[0m\u001b[0m\n\u001b[1;32m----> 4\u001b[1;33m \u001b[1;32mfrom\u001b[0m \u001b[0mmlxtend\u001b[0m\u001b[1;33m.\u001b[0m\u001b[0mplotting\u001b[0m \u001b[1;32mimport\u001b[0m \u001b[0mplot_decision_regions\u001b[0m\u001b[1;33m\u001b[0m\u001b[1;33m\u001b[0m\u001b[0m\n\u001b[0m",
      "\u001b[1;31mModuleNotFoundError\u001b[0m: No module named 'mlxtend'"
     ]
    }
   ],
   "source": [
    "import matplotlib.pyplot as plt\n",
    "import pandas as pd\n",
    "from sklearn import datasets, neighbors\n",
    "from mlxtend.plotting import plot_decision_regions"
   ]
  },
  {
   "cell_type": "code",
   "execution_count": 237,
   "id": "9d03bee2",
   "metadata": {},
   "outputs": [
    {
     "data": {
      "text/html": [
       "<div>\n",
       "<style scoped>\n",
       "    .dataframe tbody tr th:only-of-type {\n",
       "        vertical-align: middle;\n",
       "    }\n",
       "\n",
       "    .dataframe tbody tr th {\n",
       "        vertical-align: top;\n",
       "    }\n",
       "\n",
       "    .dataframe thead th {\n",
       "        text-align: right;\n",
       "    }\n",
       "</style>\n",
       "<table border=\"1\" class=\"dataframe\">\n",
       "  <thead>\n",
       "    <tr style=\"text-align: right;\">\n",
       "      <th></th>\n",
       "      <th>Air temperature [K]</th>\n",
       "      <th>Process temperature [K]</th>\n",
       "      <th>Rotational speed [rpm]</th>\n",
       "      <th>Torque [Nm]</th>\n",
       "      <th>Tool wear [min]</th>\n",
       "      <th>Power</th>\n",
       "      <th>Target</th>\n",
       "    </tr>\n",
       "  </thead>\n",
       "  <tbody>\n",
       "    <tr>\n",
       "      <th>0</th>\n",
       "      <td>296.9</td>\n",
       "      <td>307.5</td>\n",
       "      <td>1397</td>\n",
       "      <td>48.3</td>\n",
       "      <td>22</td>\n",
       "      <td>67475.1</td>\n",
       "      <td>0</td>\n",
       "    </tr>\n",
       "    <tr>\n",
       "      <th>1</th>\n",
       "      <td>297.2</td>\n",
       "      <td>308.5</td>\n",
       "      <td>1584</td>\n",
       "      <td>40.0</td>\n",
       "      <td>4</td>\n",
       "      <td>63360.0</td>\n",
       "      <td>0</td>\n",
       "    </tr>\n",
       "    <tr>\n",
       "      <th>2</th>\n",
       "      <td>297.7</td>\n",
       "      <td>308.4</td>\n",
       "      <td>1487</td>\n",
       "      <td>41.4</td>\n",
       "      <td>84</td>\n",
       "      <td>61561.8</td>\n",
       "      <td>0</td>\n",
       "    </tr>\n",
       "    <tr>\n",
       "      <th>3</th>\n",
       "      <td>298.4</td>\n",
       "      <td>309.7</td>\n",
       "      <td>1679</td>\n",
       "      <td>33.3</td>\n",
       "      <td>167</td>\n",
       "      <td>55910.7</td>\n",
       "      <td>0</td>\n",
       "    </tr>\n",
       "    <tr>\n",
       "      <th>4</th>\n",
       "      <td>301.4</td>\n",
       "      <td>310.7</td>\n",
       "      <td>1639</td>\n",
       "      <td>29.8</td>\n",
       "      <td>127</td>\n",
       "      <td>48842.2</td>\n",
       "      <td>0</td>\n",
       "    </tr>\n",
       "  </tbody>\n",
       "</table>\n",
       "</div>"
      ],
      "text/plain": [
       "   Air temperature [K]  Process temperature [K]  Rotational speed [rpm]  \\\n",
       "0                296.9                    307.5                    1397   \n",
       "1                297.2                    308.5                    1584   \n",
       "2                297.7                    308.4                    1487   \n",
       "3                298.4                    309.7                    1679   \n",
       "4                301.4                    310.7                    1639   \n",
       "\n",
       "   Torque [Nm]  Tool wear [min]    Power  Target  \n",
       "0         48.3               22  67475.1       0  \n",
       "1         40.0                4  63360.0       0  \n",
       "2         41.4               84  61561.8       0  \n",
       "3         33.3              167  55910.7       0  \n",
       "4         29.8              127  48842.2       0  "
      ]
     },
     "execution_count": 237,
     "metadata": {},
     "output_type": "execute_result"
    }
   ],
   "source": [
    "df_test.head()"
   ]
  },
  {
   "cell_type": "code",
   "execution_count": 238,
   "id": "8333d157",
   "metadata": {},
   "outputs": [
    {
     "ename": "SyntaxError",
     "evalue": "invalid character '‘' (U+2018) (Temp/ipykernel_16140/4086710459.py, line 3)",
     "output_type": "error",
     "traceback": [
      "\u001b[1;36m  File \u001b[1;32m\"C:\\Users\\214220~2\\AppData\\Local\\Temp/ipykernel_16140/4086710459.py\"\u001b[1;36m, line \u001b[1;32m3\u001b[0m\n\u001b[1;33m    y = data[‘class’].astype(int).values\u001b[0m\n\u001b[1;37m             ^\u001b[0m\n\u001b[1;31mSyntaxError\u001b[0m\u001b[1;31m:\u001b[0m invalid character '‘' (U+2018)\n"
     ]
    }
   ],
   "source": [
    "def knn_comparison(data, k):\n",
    " x = df_test[['Torque [Nm]']].values\n",
    " y = data[‘class’].astype(int).values\n",
    " clf = neighbors.KNeighborsClassifier(n_neighbors=k)\n",
    " clf.fit(x, y)\n",
    "# Plotting decision region\n",
    " plot_decision_regions(x, y, clf=clf, legend=2)\n",
    "# Adding axes annotations\n",
    " plt.xlabel(‘X’)\n",
    " plt.ylabel(‘Y’)\n",
    " plt.title(‘Knn with K=’+ str(k))\n",
    " plt.show()"
   ]
  },
  {
   "cell_type": "markdown",
   "id": "fbd2d28e",
   "metadata": {},
   "source": [
    "# 3. SVM"
   ]
  },
  {
   "cell_type": "code",
   "execution_count": 266,
   "id": "beea8dff",
   "metadata": {},
   "outputs": [
    {
     "data": {
      "text/plain": [
       "SVC(kernel='linear', random_state=1)"
      ]
     },
     "execution_count": 266,
     "metadata": {},
     "output_type": "execute_result"
    }
   ],
   "source": [
    "from sklearn.svm import SVC\n",
    "svm = SVC(kernel='linear', random_state = 1)\n",
    "svm.fit(x_train,y_train)"
   ]
  },
  {
   "cell_type": "code",
   "execution_count": 267,
   "id": "dbe00c94",
   "metadata": {},
   "outputs": [],
   "source": [
    "y_pred_svm = svm.predict(x_new)"
   ]
  },
  {
   "cell_type": "code",
   "execution_count": 268,
   "id": "161b71c5",
   "metadata": {},
   "outputs": [
    {
     "name": "stdout",
     "output_type": "stream",
     "text": [
      "[[4677 1360]\n",
      " [ 952 3878]]\n"
     ]
    }
   ],
   "source": [
    "from sklearn.metrics import confusion_matrix\n",
    "cm_matrix_svm = confusion_matrix(y_new, y_pred_svm)\n",
    "print(cm_matrix_svm)"
   ]
  },
  {
   "cell_type": "code",
   "execution_count": 269,
   "id": "289b32af",
   "metadata": {},
   "outputs": [
    {
     "data": {
      "text/plain": [
       "<AxesSubplot:>"
      ]
     },
     "execution_count": 269,
     "metadata": {},
     "output_type": "execute_result"
    },
    {
     "data": {
      "image/png": "[encoded data removed]",
      "text/plain": [
       "<Figure size 432x288 with 2 Axes>"
      ]
     },
     "metadata": {
      "needs_background": "light"
     },
     "output_type": "display_data"
    }
   ],
   "source": [
    "sns.heatmap(cm_matrix_svm/np.sum(cm_matrix_svm), annot=True, \n",
    "            fmt='.2%', cmap='Blues')"
   ]
  },
  {
   "cell_type": "code",
   "execution_count": 270,
   "id": "bb36aeed",
   "metadata": {},
   "outputs": [],
   "source": [
    "svm_pred = svm.predict(x_test)"
   ]
  },
  {
   "cell_type": "code",
   "execution_count": 271,
   "id": "baeb6c87",
   "metadata": {},
   "outputs": [],
   "source": [
    "svm_pred = np.reshape(svm_pred,(1,-1))"
   ]
  },
  {
   "cell_type": "code",
   "execution_count": 272,
   "id": "e9a9caad",
   "metadata": {},
   "outputs": [
    {
     "name": "stdout",
     "output_type": "stream",
     "text": [
      "\n",
      "Accuracy Of SVM For The Given Dataset :  0.7872457900064416\n"
     ]
    }
   ],
   "source": [
    "from sklearn.metrics import confusion_matrix\n",
    "accuracy = float(cm_matrix_svm.diagonal().sum())/len(y_pred_svm)\n",
    "print(\"\\nAccuracy Of SVM For The Given Dataset : \", accuracy)"
   ]
  },
  {
   "cell_type": "code",
   "execution_count": 289,
   "id": "1e27c625",
   "metadata": {},
   "outputs": [
    {
     "data": {
      "text/html": [
       "<div>\n",
       "<style scoped>\n",
       "    .dataframe tbody tr th:only-of-type {\n",
       "        vertical-align: middle;\n",
       "    }\n",
       "\n",
       "    .dataframe tbody tr th {\n",
       "        vertical-align: top;\n",
       "    }\n",
       "\n",
       "    .dataframe thead th {\n",
       "        text-align: right;\n",
       "    }\n",
       "</style>\n",
       "<table border=\"1\" class=\"dataframe\">\n",
       "  <thead>\n",
       "    <tr style=\"text-align: right;\">\n",
       "      <th></th>\n",
       "      <th>Air temperature [K]</th>\n",
       "      <th>Process temperature [K]</th>\n",
       "      <th>Rotational speed [rpm]</th>\n",
       "      <th>Torque [Nm]</th>\n",
       "      <th>Tool wear [min]</th>\n",
       "      <th>Power</th>\n",
       "    </tr>\n",
       "  </thead>\n",
       "  <tbody>\n",
       "    <tr>\n",
       "      <th>0</th>\n",
       "      <td>296.9</td>\n",
       "      <td>307.5</td>\n",
       "      <td>1397</td>\n",
       "      <td>48.3</td>\n",
       "      <td>22</td>\n",
       "      <td>67475.1</td>\n",
       "    </tr>\n",
       "    <tr>\n",
       "      <th>1</th>\n",
       "      <td>297.2</td>\n",
       "      <td>308.5</td>\n",
       "      <td>1584</td>\n",
       "      <td>40.0</td>\n",
       "      <td>4</td>\n",
       "      <td>63360.0</td>\n",
       "    </tr>\n",
       "    <tr>\n",
       "      <th>2</th>\n",
       "      <td>297.7</td>\n",
       "      <td>308.4</td>\n",
       "      <td>1487</td>\n",
       "      <td>41.4</td>\n",
       "      <td>84</td>\n",
       "      <td>61561.8</td>\n",
       "    </tr>\n",
       "    <tr>\n",
       "      <th>3</th>\n",
       "      <td>298.4</td>\n",
       "      <td>309.7</td>\n",
       "      <td>1679</td>\n",
       "      <td>33.3</td>\n",
       "      <td>167</td>\n",
       "      <td>55910.7</td>\n",
       "    </tr>\n",
       "    <tr>\n",
       "      <th>4</th>\n",
       "      <td>301.4</td>\n",
       "      <td>310.7</td>\n",
       "      <td>1639</td>\n",
       "      <td>29.8</td>\n",
       "      <td>127</td>\n",
       "      <td>48842.2</td>\n",
       "    </tr>\n",
       "    <tr>\n",
       "      <th>...</th>\n",
       "      <td>...</td>\n",
       "      <td>...</td>\n",
       "      <td>...</td>\n",
       "      <td>...</td>\n",
       "      <td>...</td>\n",
       "      <td>...</td>\n",
       "    </tr>\n",
       "    <tr>\n",
       "      <th>10862</th>\n",
       "      <td>302.0</td>\n",
       "      <td>310.4</td>\n",
       "      <td>1212</td>\n",
       "      <td>55.6</td>\n",
       "      <td>79</td>\n",
       "      <td>67387.2</td>\n",
       "    </tr>\n",
       "    <tr>\n",
       "      <th>10863</th>\n",
       "      <td>302.6</td>\n",
       "      <td>311.0</td>\n",
       "      <td>1284</td>\n",
       "      <td>68.0</td>\n",
       "      <td>114</td>\n",
       "      <td>87312.0</td>\n",
       "    </tr>\n",
       "    <tr>\n",
       "      <th>10864</th>\n",
       "      <td>301.6</td>\n",
       "      <td>310.6</td>\n",
       "      <td>1309</td>\n",
       "      <td>65.8</td>\n",
       "      <td>75</td>\n",
       "      <td>86132.2</td>\n",
       "    </tr>\n",
       "    <tr>\n",
       "      <th>10865</th>\n",
       "      <td>302.6</td>\n",
       "      <td>310.2</td>\n",
       "      <td>1325</td>\n",
       "      <td>62.4</td>\n",
       "      <td>92</td>\n",
       "      <td>82680.0</td>\n",
       "    </tr>\n",
       "    <tr>\n",
       "      <th>10866</th>\n",
       "      <td>302.2</td>\n",
       "      <td>311.3</td>\n",
       "      <td>1530</td>\n",
       "      <td>37.3</td>\n",
       "      <td>207</td>\n",
       "      <td>57069.0</td>\n",
       "    </tr>\n",
       "  </tbody>\n",
       "</table>\n",
       "<p>10867 rows × 6 columns</p>\n",
       "</div>"
      ],
      "text/plain": [
       "       Air temperature [K]  Process temperature [K]  Rotational speed [rpm]  \\\n",
       "0                    296.9                    307.5                    1397   \n",
       "1                    297.2                    308.5                    1584   \n",
       "2                    297.7                    308.4                    1487   \n",
       "3                    298.4                    309.7                    1679   \n",
       "4                    301.4                    310.7                    1639   \n",
       "...                    ...                      ...                     ...   \n",
       "10862                302.0                    310.4                    1212   \n",
       "10863                302.6                    311.0                    1284   \n",
       "10864                301.6                    310.6                    1309   \n",
       "10865                302.6                    310.2                    1325   \n",
       "10866                302.2                    311.3                    1530   \n",
       "\n",
       "       Torque [Nm]  Tool wear [min]    Power  \n",
       "0             48.3               22  67475.1  \n",
       "1             40.0                4  63360.0  \n",
       "2             41.4               84  61561.8  \n",
       "3             33.3              167  55910.7  \n",
       "4             29.8              127  48842.2  \n",
       "...            ...              ...      ...  \n",
       "10862         55.6               79  67387.2  \n",
       "10863         68.0              114  87312.0  \n",
       "10864         65.8               75  86132.2  \n",
       "10865         62.4               92  82680.0  \n",
       "10866         37.3              207  57069.0  \n",
       "\n",
       "[10867 rows x 6 columns]"
      ]
     },
     "execution_count": 289,
     "metadata": {},
     "output_type": "execute_result"
    }
   ],
   "source": [
    "x_new"
   ]
  },
  {
   "cell_type": "code",
   "execution_count": 377,
   "id": "9a161069",
   "metadata": {},
   "outputs": [],
   "source": [
    "x_new.drop(['Rotational speed [rpm]'], axis=1, inplace=True)"
   ]
  },
  {
   "cell_type": "code",
   "execution_count": 442,
   "id": "a19a5ef5",
   "metadata": {},
   "outputs": [
    {
     "data": {
      "text/html": [
       "<div>\n",
       "<style scoped>\n",
       "    .dataframe tbody tr th:only-of-type {\n",
       "        vertical-align: middle;\n",
       "    }\n",
       "\n",
       "    .dataframe tbody tr th {\n",
       "        vertical-align: top;\n",
       "    }\n",
       "\n",
       "    .dataframe thead th {\n",
       "        text-align: right;\n",
       "    }\n",
       "</style>\n",
       "<table border=\"1\" class=\"dataframe\">\n",
       "  <thead>\n",
       "    <tr style=\"text-align: right;\">\n",
       "      <th></th>\n",
       "      <th>Air temperature [K]</th>\n",
       "      <th>Process temperature [K]</th>\n",
       "      <th>Torque [Nm]</th>\n",
       "      <th>Tool wear [min]</th>\n",
       "      <th>Power</th>\n",
       "    </tr>\n",
       "  </thead>\n",
       "  <tbody>\n",
       "    <tr>\n",
       "      <th>0</th>\n",
       "      <td>304.1</td>\n",
       "      <td>313.2</td>\n",
       "      <td>18.9</td>\n",
       "      <td>45</td>\n",
       "      <td>38329.2</td>\n",
       "    </tr>\n",
       "    <tr>\n",
       "      <th>1</th>\n",
       "      <td>297.7</td>\n",
       "      <td>308.7</td>\n",
       "      <td>27.2</td>\n",
       "      <td>125</td>\n",
       "      <td>45913.6</td>\n",
       "    </tr>\n",
       "    <tr>\n",
       "      <th>2</th>\n",
       "      <td>300.5</td>\n",
       "      <td>309.4</td>\n",
       "      <td>23.8</td>\n",
       "      <td>31</td>\n",
       "      <td>44672.6</td>\n",
       "    </tr>\n",
       "    <tr>\n",
       "      <th>3</th>\n",
       "      <td>300.5</td>\n",
       "      <td>309.3</td>\n",
       "      <td>40.8</td>\n",
       "      <td>219</td>\n",
       "      <td>59976.0</td>\n",
       "    </tr>\n",
       "    <tr>\n",
       "      <th>4</th>\n",
       "      <td>301.6</td>\n",
       "      <td>310.6</td>\n",
       "      <td>36.1</td>\n",
       "      <td>208</td>\n",
       "      <td>57723.9</td>\n",
       "    </tr>\n",
       "    <tr>\n",
       "      <th>...</th>\n",
       "      <td>...</td>\n",
       "      <td>...</td>\n",
       "      <td>...</td>\n",
       "      <td>...</td>\n",
       "      <td>...</td>\n",
       "    </tr>\n",
       "    <tr>\n",
       "      <th>10862</th>\n",
       "      <td>302.4</td>\n",
       "      <td>310.1</td>\n",
       "      <td>48.9</td>\n",
       "      <td>107</td>\n",
       "      <td>67433.1</td>\n",
       "    </tr>\n",
       "    <tr>\n",
       "      <th>10863</th>\n",
       "      <td>302.0</td>\n",
       "      <td>310.5</td>\n",
       "      <td>44.4</td>\n",
       "      <td>85</td>\n",
       "      <td>60828.0</td>\n",
       "    </tr>\n",
       "    <tr>\n",
       "      <th>10864</th>\n",
       "      <td>303.4</td>\n",
       "      <td>312.0</td>\n",
       "      <td>35.9</td>\n",
       "      <td>215</td>\n",
       "      <td>54603.9</td>\n",
       "    </tr>\n",
       "    <tr>\n",
       "      <th>10865</th>\n",
       "      <td>301.8</td>\n",
       "      <td>310.3</td>\n",
       "      <td>50.5</td>\n",
       "      <td>64</td>\n",
       "      <td>67720.5</td>\n",
       "    </tr>\n",
       "    <tr>\n",
       "      <th>10866</th>\n",
       "      <td>302.2</td>\n",
       "      <td>310.6</td>\n",
       "      <td>48.4</td>\n",
       "      <td>161</td>\n",
       "      <td>65243.2</td>\n",
       "    </tr>\n",
       "  </tbody>\n",
       "</table>\n",
       "<p>10867 rows × 5 columns</p>\n",
       "</div>"
      ],
      "text/plain": [
       "       Air temperature [K]  Process temperature [K]  Torque [Nm]  \\\n",
       "0                    304.1                    313.2         18.9   \n",
       "1                    297.7                    308.7         27.2   \n",
       "2                    300.5                    309.4         23.8   \n",
       "3                    300.5                    309.3         40.8   \n",
       "4                    301.6                    310.6         36.1   \n",
       "...                    ...                      ...          ...   \n",
       "10862                302.4                    310.1         48.9   \n",
       "10863                302.0                    310.5         44.4   \n",
       "10864                303.4                    312.0         35.9   \n",
       "10865                301.8                    310.3         50.5   \n",
       "10866                302.2                    310.6         48.4   \n",
       "\n",
       "       Tool wear [min]    Power  \n",
       "0                   45  38329.2  \n",
       "1                  125  45913.6  \n",
       "2                   31  44672.6  \n",
       "3                  219  59976.0  \n",
       "4                  208  57723.9  \n",
       "...                ...      ...  \n",
       "10862              107  67433.1  \n",
       "10863               85  60828.0  \n",
       "10864              215  54603.9  \n",
       "10865               64  67720.5  \n",
       "10866              161  65243.2  \n",
       "\n",
       "[10867 rows x 5 columns]"
      ]
     },
     "execution_count": 442,
     "metadata": {},
     "output_type": "execute_result"
    }
   ],
   "source": [
    "x_new"
   ]
  },
  {
   "cell_type": "markdown",
   "id": "ea9ce8cf",
   "metadata": {},
   "source": [
    "## 4. Random Forest"
   ]
  },
  {
   "cell_type": "code",
   "execution_count": 500,
   "id": "fa802529",
   "metadata": {},
   "outputs": [],
   "source": [
    "from sklearn.model_selection import train_test_split\n",
    "from sklearn.ensemble import RandomForestClassifier\n",
    "x_train, x_test, y_train, y_test = train_test_split(x_new, y_new, test_size = 0.30)"
   ]
  },
  {
   "cell_type": "code",
   "execution_count": 501,
   "id": "f08fd436",
   "metadata": {},
   "outputs": [],
   "source": [
    "rf1 = RandomForestClassifier(n_jobs=-1, bootstrap=True, max_depth=11, verbose=1) "
   ]
  },
  {
   "cell_type": "code",
   "execution_count": 502,
   "id": "e1e7dc18",
   "metadata": {},
   "outputs": [
    {
     "name": "stderr",
     "output_type": "stream",
     "text": [
      "[Parallel(n_jobs=-1)]: Using backend ThreadingBackend with 8 concurrent workers.\n",
      "[Parallel(n_jobs=-1)]: Done  34 tasks      | elapsed:    0.0s\n",
      "[Parallel(n_jobs=-1)]: Done 100 out of 100 | elapsed:    0.1s finished\n"
     ]
    },
    {
     "data": {
      "text/plain": [
       "RandomForestClassifier(max_depth=11, n_jobs=-1, verbose=1)"
      ]
     },
     "execution_count": 502,
     "metadata": {},
     "output_type": "execute_result"
    }
   ],
   "source": [
    "rf1.fit(x_train, y_train)"
   ]
  },
  {
   "cell_type": "code",
   "execution_count": 503,
   "id": "bb759df6",
   "metadata": {},
   "outputs": [
    {
     "name": "stderr",
     "output_type": "stream",
     "text": [
      "[Parallel(n_jobs=8)]: Using backend ThreadingBackend with 8 concurrent workers.\n",
      "[Parallel(n_jobs=8)]: Done  34 tasks      | elapsed:    0.0s\n",
      "[Parallel(n_jobs=8)]: Done 100 out of 100 | elapsed:    0.0s finished\n"
     ]
    }
   ],
   "source": [
    "y_pred_rf = rf1.predict(x_test)"
   ]
  },
  {
   "cell_type": "code",
   "execution_count": 504,
   "id": "a9c1f3d1",
   "metadata": {},
   "outputs": [
    {
     "name": "stderr",
     "output_type": "stream",
     "text": [
      "[Parallel(n_jobs=8)]: Using backend ThreadingBackend with 8 concurrent workers.\n",
      "[Parallel(n_jobs=8)]: Done  34 tasks      | elapsed:    0.0s\n",
      "[Parallel(n_jobs=8)]: Done 100 out of 100 | elapsed:    0.0s finished\n"
     ]
    }
   ],
   "source": [
    "y_pred_rf_cm = rf1.predict(x_new)"
   ]
  },
  {
   "cell_type": "code",
   "execution_count": 505,
   "id": "f07f071f",
   "metadata": {
    "scrolled": true
   },
   "outputs": [
    {
     "name": "stdout",
     "output_type": "stream",
     "text": [
      "TEST ACCURACY OF THE MODEL:  0.9889604415823368\n"
     ]
    }
   ],
   "source": [
    "from sklearn import metrics \n",
    "print(\"TEST ACCURACY OF THE MODEL: \", metrics.accuracy_score(y_test, y_pred_rf))"
   ]
  },
  {
   "cell_type": "code",
   "execution_count": 506,
   "id": "de34a175",
   "metadata": {},
   "outputs": [
    {
     "name": "stdout",
     "output_type": "stream",
     "text": [
      "[[5971   66]\n",
      " [   0 4830]]\n"
     ]
    }
   ],
   "source": [
    "from sklearn.metrics import confusion_matrix\n",
    "cf_matrix_rf = confusion_matrix(y_new, y_pred_rf_cm)\n",
    "print(cf_matrix_rf)"
   ]
  },
  {
   "cell_type": "code",
   "execution_count": 507,
   "id": "a6440c32",
   "metadata": {},
   "outputs": [
    {
     "data": {
      "text/plain": [
       "<AxesSubplot:>"
      ]
     },
     "execution_count": 507,
     "metadata": {},
     "output_type": "execute_result"
    },
    {
     "data": {
      "image/png": "[encoded data removed]",
      "text/plain": [
       "<Figure size 432x288 with 2 Axes>"
      ]
     },
     "metadata": {
      "needs_background": "light"
     },
     "output_type": "display_data"
    }
   ],
   "source": [
    "sns.heatmap(cf_matrix_rf/np.sum(cf_matrix_rf), annot=True, \n",
    "            fmt='.2%', cmap='Blues')"
   ]
  },
  {
   "cell_type": "markdown",
   "id": "522167ba",
   "metadata": {},
   "source": [
    "## Model for Failure Type"
   ]
  },
  {
   "cell_type": "code",
   "execution_count": 395,
   "id": "a862ddef",
   "metadata": {},
   "outputs": [
    {
     "data": {
      "text/html": [
       "<div>\n",
       "<style scoped>\n",
       "    .dataframe tbody tr th:only-of-type {\n",
       "        vertical-align: middle;\n",
       "    }\n",
       "\n",
       "    .dataframe tbody tr th {\n",
       "        vertical-align: top;\n",
       "    }\n",
       "\n",
       "    .dataframe thead th {\n",
       "        text-align: right;\n",
       "    }\n",
       "</style>\n",
       "<table border=\"1\" class=\"dataframe\">\n",
       "  <thead>\n",
       "    <tr style=\"text-align: right;\">\n",
       "      <th></th>\n",
       "      <th>UDI</th>\n",
       "      <th>Product ID</th>\n",
       "      <th>Type</th>\n",
       "      <th>Air temperature [K]</th>\n",
       "      <th>Process temperature [K]</th>\n",
       "      <th>Rotational speed [rpm]</th>\n",
       "      <th>Torque [Nm]</th>\n",
       "      <th>Tool wear [min]</th>\n",
       "      <th>Target</th>\n",
       "      <th>Failure Type</th>\n",
       "      <th>Power</th>\n",
       "    </tr>\n",
       "  </thead>\n",
       "  <tbody>\n",
       "    <tr>\n",
       "      <th>0</th>\n",
       "      <td>1</td>\n",
       "      <td>M14860</td>\n",
       "      <td>M</td>\n",
       "      <td>298.1</td>\n",
       "      <td>308.6</td>\n",
       "      <td>1551</td>\n",
       "      <td>42.8</td>\n",
       "      <td>0</td>\n",
       "      <td>0</td>\n",
       "      <td>1</td>\n",
       "      <td>66382.8</td>\n",
       "    </tr>\n",
       "    <tr>\n",
       "      <th>1</th>\n",
       "      <td>2</td>\n",
       "      <td>L47181</td>\n",
       "      <td>L</td>\n",
       "      <td>298.2</td>\n",
       "      <td>308.7</td>\n",
       "      <td>1408</td>\n",
       "      <td>46.3</td>\n",
       "      <td>3</td>\n",
       "      <td>0</td>\n",
       "      <td>1</td>\n",
       "      <td>65190.4</td>\n",
       "    </tr>\n",
       "    <tr>\n",
       "      <th>2</th>\n",
       "      <td>3</td>\n",
       "      <td>L47182</td>\n",
       "      <td>L</td>\n",
       "      <td>298.1</td>\n",
       "      <td>308.5</td>\n",
       "      <td>1498</td>\n",
       "      <td>49.4</td>\n",
       "      <td>5</td>\n",
       "      <td>0</td>\n",
       "      <td>1</td>\n",
       "      <td>74001.2</td>\n",
       "    </tr>\n",
       "    <tr>\n",
       "      <th>3</th>\n",
       "      <td>4</td>\n",
       "      <td>L47183</td>\n",
       "      <td>L</td>\n",
       "      <td>298.2</td>\n",
       "      <td>308.6</td>\n",
       "      <td>1433</td>\n",
       "      <td>39.5</td>\n",
       "      <td>7</td>\n",
       "      <td>0</td>\n",
       "      <td>1</td>\n",
       "      <td>56603.5</td>\n",
       "    </tr>\n",
       "    <tr>\n",
       "      <th>4</th>\n",
       "      <td>5</td>\n",
       "      <td>L47184</td>\n",
       "      <td>L</td>\n",
       "      <td>298.2</td>\n",
       "      <td>308.7</td>\n",
       "      <td>1408</td>\n",
       "      <td>40.0</td>\n",
       "      <td>9</td>\n",
       "      <td>0</td>\n",
       "      <td>1</td>\n",
       "      <td>56320.0</td>\n",
       "    </tr>\n",
       "  </tbody>\n",
       "</table>\n",
       "</div>"
      ],
      "text/plain": [
       "   UDI Product ID Type  Air temperature [K]  Process temperature [K]  \\\n",
       "0    1     M14860    M                298.1                    308.6   \n",
       "1    2     L47181    L                298.2                    308.7   \n",
       "2    3     L47182    L                298.1                    308.5   \n",
       "3    4     L47183    L                298.2                    308.6   \n",
       "4    5     L47184    L                298.2                    308.7   \n",
       "\n",
       "   Rotational speed [rpm]  Torque [Nm]  Tool wear [min]  Target  Failure Type  \\\n",
       "0                    1551         42.8                0       0             1   \n",
       "1                    1408         46.3                3       0             1   \n",
       "2                    1498         49.4                5       0             1   \n",
       "3                    1433         39.5                7       0             1   \n",
       "4                    1408         40.0                9       0             1   \n",
       "\n",
       "     Power  \n",
       "0  66382.8  \n",
       "1  65190.4  \n",
       "2  74001.2  \n",
       "3  56603.5  \n",
       "4  56320.0  "
      ]
     },
     "execution_count": 395,
     "metadata": {},
     "output_type": "execute_result"
    }
   ],
   "source": [
    "df1.head()"
   ]
  },
  {
   "cell_type": "code",
   "execution_count": 422,
   "id": "e7bafdb3",
   "metadata": {},
   "outputs": [],
   "source": [
    "x2 = df1.drop(['Target', 'Failure Type', 'Rotational speed [rpm]', 'UDI', 'Product ID', 'Type'], axis=1)"
   ]
  },
  {
   "cell_type": "code",
   "execution_count": 423,
   "id": "b85a14a0",
   "metadata": {},
   "outputs": [],
   "source": [
    "y2 = df1['Failure Type']"
   ]
  },
  {
   "cell_type": "code",
   "execution_count": 424,
   "id": "d48ec0b1",
   "metadata": {},
   "outputs": [
    {
     "data": {
      "text/html": [
       "<div>\n",
       "<style scoped>\n",
       "    .dataframe tbody tr th:only-of-type {\n",
       "        vertical-align: middle;\n",
       "    }\n",
       "\n",
       "    .dataframe tbody tr th {\n",
       "        vertical-align: top;\n",
       "    }\n",
       "\n",
       "    .dataframe thead th {\n",
       "        text-align: right;\n",
       "    }\n",
       "</style>\n",
       "<table border=\"1\" class=\"dataframe\">\n",
       "  <thead>\n",
       "    <tr style=\"text-align: right;\">\n",
       "      <th></th>\n",
       "      <th>Air temperature [K]</th>\n",
       "      <th>Process temperature [K]</th>\n",
       "      <th>Torque [Nm]</th>\n",
       "      <th>Tool wear [min]</th>\n",
       "      <th>Power</th>\n",
       "    </tr>\n",
       "  </thead>\n",
       "  <tbody>\n",
       "    <tr>\n",
       "      <th>0</th>\n",
       "      <td>298.1</td>\n",
       "      <td>308.6</td>\n",
       "      <td>42.8</td>\n",
       "      <td>0</td>\n",
       "      <td>66382.8</td>\n",
       "    </tr>\n",
       "    <tr>\n",
       "      <th>1</th>\n",
       "      <td>298.2</td>\n",
       "      <td>308.7</td>\n",
       "      <td>46.3</td>\n",
       "      <td>3</td>\n",
       "      <td>65190.4</td>\n",
       "    </tr>\n",
       "    <tr>\n",
       "      <th>2</th>\n",
       "      <td>298.1</td>\n",
       "      <td>308.5</td>\n",
       "      <td>49.4</td>\n",
       "      <td>5</td>\n",
       "      <td>74001.2</td>\n",
       "    </tr>\n",
       "    <tr>\n",
       "      <th>3</th>\n",
       "      <td>298.2</td>\n",
       "      <td>308.6</td>\n",
       "      <td>39.5</td>\n",
       "      <td>7</td>\n",
       "      <td>56603.5</td>\n",
       "    </tr>\n",
       "    <tr>\n",
       "      <th>4</th>\n",
       "      <td>298.2</td>\n",
       "      <td>308.7</td>\n",
       "      <td>40.0</td>\n",
       "      <td>9</td>\n",
       "      <td>56320.0</td>\n",
       "    </tr>\n",
       "  </tbody>\n",
       "</table>\n",
       "</div>"
      ],
      "text/plain": [
       "   Air temperature [K]  Process temperature [K]  Torque [Nm]  Tool wear [min]  \\\n",
       "0                298.1                    308.6         42.8                0   \n",
       "1                298.2                    308.7         46.3                3   \n",
       "2                298.1                    308.5         49.4                5   \n",
       "3                298.2                    308.6         39.5                7   \n",
       "4                298.2                    308.7         40.0                9   \n",
       "\n",
       "     Power  \n",
       "0  66382.8  \n",
       "1  65190.4  \n",
       "2  74001.2  \n",
       "3  56603.5  \n",
       "4  56320.0  "
      ]
     },
     "execution_count": 424,
     "metadata": {},
     "output_type": "execute_result"
    }
   ],
   "source": [
    "x2.head()"
   ]
  },
  {
   "cell_type": "code",
   "execution_count": 425,
   "id": "b2beb940",
   "metadata": {},
   "outputs": [
    {
     "data": {
      "text/plain": [
       "<AxesSubplot:xlabel='Failure Type', ylabel='count'>"
      ]
     },
     "execution_count": 425,
     "metadata": {},
     "output_type": "execute_result"
    },
    {
     "data": {
      "image/png": "[encoded data removed]",
      "text/plain": [
       "<Figure size 432x288 with 1 Axes>"
      ]
     },
     "metadata": {
      "needs_background": "light"
     },
     "output_type": "display_data"
    }
   ],
   "source": [
    "sns.countplot(x=df1['Failure Type'])"
   ]
  },
  {
   "cell_type": "markdown",
   "id": "23bc6418",
   "metadata": {},
   "source": [
    "# Data Set is imbalanced"
   ]
  },
  {
   "cell_type": "code",
   "execution_count": null,
   "id": "6d3a3885",
   "metadata": {},
   "outputs": [],
   "source": []
  },
  {
   "cell_type": "code",
   "execution_count": 426,
   "id": "8a6deea5",
   "metadata": {
    "scrolled": true
   },
   "outputs": [
    {
     "name": "stdout",
     "output_type": "stream",
     "text": [
      "Oversampled: Counter({1: 9652, 3: 9652, 5: 9652, 2: 9652, 4: 9652, 0: 9652})\n",
      "Combined Random Sampling: Counter({0: 6037, 1: 4830})\n"
     ]
    }
   ],
   "source": [
    "# instantiating over and under sampler\n",
    "over = RandomOverSampler()\n",
    "under = RandomUnderSampler()\n",
    "# first performing oversampling to minority class\n",
    "X_over, y_over = over.fit_resample(x2, y2)\n",
    "print(f\"Oversampled: {Counter(y_over)}\")\n",
    "\n",
    "# now to comine under sampling \n",
    "x_combined_sampling2, y_combined_sampling2 = under.fit_resample(X_over, y_over)\n",
    "print(f\"Combined Random Sampling: {Counter(y_combined_sampling)}\")"
   ]
  },
  {
   "cell_type": "code",
   "execution_count": 427,
   "id": "81d037db",
   "metadata": {},
   "outputs": [
    {
     "data": {
      "text/plain": [
       "<AxesSubplot:xlabel='Failure Type', ylabel='count'>"
      ]
     },
     "execution_count": 427,
     "metadata": {},
     "output_type": "execute_result"
    },
    {
     "data": {
      "image/png": "[encoded data removed]",
      "text/plain": [
       "<Figure size 432x288 with 1 Axes>"
      ]
     },
     "metadata": {
      "needs_background": "light"
     },
     "output_type": "display_data"
    }
   ],
   "source": [
    "sns.countplot(x=y_combined_sampling2)"
   ]
  },
  {
   "cell_type": "code",
   "execution_count": 465,
   "id": "855b2274",
   "metadata": {},
   "outputs": [],
   "source": [
    "x_train2, x_test2, y_train2, y_test2 = train_test_split(x_combined_sampling2, y_combined_sampling2, test_size = 0.30)"
   ]
  },
  {
   "cell_type": "code",
   "execution_count": 466,
   "id": "c5b4408c",
   "metadata": {},
   "outputs": [],
   "source": [
    "rf2 = RandomForestClassifier(n_jobs=-1, bootstrap=True, max_depth=10) "
   ]
  },
  {
   "cell_type": "code",
   "execution_count": 467,
   "id": "b9307502",
   "metadata": {},
   "outputs": [
    {
     "data": {
      "text/plain": [
       "RandomForestClassifier(max_depth=10, n_jobs=-1)"
      ]
     },
     "execution_count": 467,
     "metadata": {},
     "output_type": "execute_result"
    }
   ],
   "source": [
    "rf2.fit(x_train2, y_train2)"
   ]
  },
  {
   "cell_type": "code",
   "execution_count": 469,
   "id": "6d466d6d",
   "metadata": {},
   "outputs": [],
   "source": [
    "y_pred2 = rf2.predict(x_test2)"
   ]
  },
  {
   "cell_type": "code",
   "execution_count": 470,
   "id": "fa58d585",
   "metadata": {},
   "outputs": [],
   "source": [
    "y_pred3 = rf2.predict(x_train2)"
   ]
  },
  {
   "cell_type": "code",
   "execution_count": 471,
   "id": "22fbaf96",
   "metadata": {},
   "outputs": [],
   "source": [
    "y_pred_cm2 = rf2.predict(x_combined_sampling2)"
   ]
  },
  {
   "cell_type": "code",
   "execution_count": 472,
   "id": "ac51130d",
   "metadata": {},
   "outputs": [
    {
     "name": "stdout",
     "output_type": "stream",
     "text": [
      "TEST ACCURACY OF THE MODEL:  0.9848624381259353\n"
     ]
    }
   ],
   "source": [
    "from sklearn import metrics \n",
    "print(\"TEST ACCURACY OF THE MODEL: \", metrics.accuracy_score(y_test2, y_pred2))"
   ]
  },
  {
   "cell_type": "code",
   "execution_count": 473,
   "id": "e6fe213f",
   "metadata": {},
   "outputs": [
    {
     "name": "stdout",
     "output_type": "stream",
     "text": [
      "TRAIN ACCURACY OF THE MODEL:  0.9862598056144852\n"
     ]
    }
   ],
   "source": [
    "print(\"TRAIN ACCURACY OF THE MODEL: \", metrics.accuracy_score(y_train2, y_pred3))"
   ]
  },
  {
   "cell_type": "code",
   "execution_count": 474,
   "id": "e48d9e77",
   "metadata": {},
   "outputs": [
    {
     "name": "stdout",
     "output_type": "stream",
     "text": [
      "[[9652    0    0    0    0    0]\n",
      " [ 276 8832   43    0  114  387]\n",
      " [   0    0 9652    0    0    0]\n",
      " [   0    0    0 9652    0    0]\n",
      " [   0    0    0    0 9652    0]\n",
      " [   0    0    0    0    0 9652]]\n"
     ]
    }
   ],
   "source": [
    "from sklearn.metrics import confusion_matrix\n",
    "cf_matrix = confusion_matrix(y_combined_sampling2, y_pred_cm2)\n",
    "print(cf_matrix)"
   ]
  },
  {
   "cell_type": "code",
   "execution_count": 475,
   "id": "bded63e3",
   "metadata": {},
   "outputs": [
    {
     "data": {
      "text/plain": [
       "<AxesSubplot:>"
      ]
     },
     "execution_count": 475,
     "metadata": {},
     "output_type": "execute_result"
    },
    {
     "data": {
      "image/png": "[encoded data removed]",
      "text/plain": [
       "<Figure size 1080x720 with 2 Axes>"
      ]
     },
     "metadata": {
      "needs_background": "light"
     },
     "output_type": "display_data"
    }
   ],
   "source": [
    "fig, ax = plt.subplots(figsize=(15, 10))\n",
    "sns.heatmap(cf_matrix/np.sum(cf_matrix), annot=True, \n",
    "            fmt='.2%', cmap='YlGnBu',ax=ax)"
   ]
  },
  {
   "cell_type": "markdown",
   "id": "a707f09f",
   "metadata": {},
   "source": [
    "## Dumping both the model (for Target and Failure type into a pickle file)"
   ]
  },
  {
   "cell_type": "code",
   "execution_count": 476,
   "id": "b607a8fb",
   "metadata": {},
   "outputs": [
    {
     "data": {
      "text/html": [
       "<div>\n",
       "<style scoped>\n",
       "    .dataframe tbody tr th:only-of-type {\n",
       "        vertical-align: middle;\n",
       "    }\n",
       "\n",
       "    .dataframe tbody tr th {\n",
       "        vertical-align: top;\n",
       "    }\n",
       "\n",
       "    .dataframe thead th {\n",
       "        text-align: right;\n",
       "    }\n",
       "</style>\n",
       "<table border=\"1\" class=\"dataframe\">\n",
       "  <thead>\n",
       "    <tr style=\"text-align: right;\">\n",
       "      <th></th>\n",
       "      <th>Air temperature [K]</th>\n",
       "      <th>Process temperature [K]</th>\n",
       "      <th>Torque [Nm]</th>\n",
       "      <th>Tool wear [min]</th>\n",
       "      <th>Power</th>\n",
       "    </tr>\n",
       "  </thead>\n",
       "  <tbody>\n",
       "    <tr>\n",
       "      <th>48977</th>\n",
       "      <td>302.6</td>\n",
       "      <td>311.5</td>\n",
       "      <td>34.4</td>\n",
       "      <td>228</td>\n",
       "      <td>56037.6</td>\n",
       "    </tr>\n",
       "    <tr>\n",
       "      <th>54247</th>\n",
       "      <td>297.8</td>\n",
       "      <td>308.9</td>\n",
       "      <td>25.6</td>\n",
       "      <td>200</td>\n",
       "      <td>47897.6</td>\n",
       "    </tr>\n",
       "    <tr>\n",
       "      <th>13684</th>\n",
       "      <td>298.8</td>\n",
       "      <td>308.6</td>\n",
       "      <td>55.8</td>\n",
       "      <td>155</td>\n",
       "      <td>70754.4</td>\n",
       "    </tr>\n",
       "    <tr>\n",
       "      <th>38029</th>\n",
       "      <td>302.6</td>\n",
       "      <td>310.4</td>\n",
       "      <td>66.8</td>\n",
       "      <td>80</td>\n",
       "      <td>91182.0</td>\n",
       "    </tr>\n",
       "    <tr>\n",
       "      <th>24326</th>\n",
       "      <td>304.0</td>\n",
       "      <td>312.9</td>\n",
       "      <td>62.5</td>\n",
       "      <td>200</td>\n",
       "      <td>85187.5</td>\n",
       "    </tr>\n",
       "    <tr>\n",
       "      <th>...</th>\n",
       "      <td>...</td>\n",
       "      <td>...</td>\n",
       "      <td>...</td>\n",
       "      <td>...</td>\n",
       "      <td>...</td>\n",
       "    </tr>\n",
       "    <tr>\n",
       "      <th>22667</th>\n",
       "      <td>300.7</td>\n",
       "      <td>311.8</td>\n",
       "      <td>58.4</td>\n",
       "      <td>189</td>\n",
       "      <td>78022.4</td>\n",
       "    </tr>\n",
       "    <tr>\n",
       "      <th>38846</th>\n",
       "      <td>300.9</td>\n",
       "      <td>310.7</td>\n",
       "      <td>57.5</td>\n",
       "      <td>16</td>\n",
       "      <td>81190.0</td>\n",
       "    </tr>\n",
       "    <tr>\n",
       "      <th>3453</th>\n",
       "      <td>302.3</td>\n",
       "      <td>310.9</td>\n",
       "      <td>48.4</td>\n",
       "      <td>130</td>\n",
       "      <td>66114.4</td>\n",
       "    </tr>\n",
       "    <tr>\n",
       "      <th>1840</th>\n",
       "      <td>301.9</td>\n",
       "      <td>310.4</td>\n",
       "      <td>48.0</td>\n",
       "      <td>73</td>\n",
       "      <td>65904.0</td>\n",
       "    </tr>\n",
       "    <tr>\n",
       "      <th>42959</th>\n",
       "      <td>302.6</td>\n",
       "      <td>312.1</td>\n",
       "      <td>28.7</td>\n",
       "      <td>180</td>\n",
       "      <td>47871.6</td>\n",
       "    </tr>\n",
       "  </tbody>\n",
       "</table>\n",
       "<p>17374 rows × 5 columns</p>\n",
       "</div>"
      ],
      "text/plain": [
       "       Air temperature [K]  Process temperature [K]  Torque [Nm]  \\\n",
       "48977                302.6                    311.5         34.4   \n",
       "54247                297.8                    308.9         25.6   \n",
       "13684                298.8                    308.6         55.8   \n",
       "38029                302.6                    310.4         66.8   \n",
       "24326                304.0                    312.9         62.5   \n",
       "...                    ...                      ...          ...   \n",
       "22667                300.7                    311.8         58.4   \n",
       "38846                300.9                    310.7         57.5   \n",
       "3453                 302.3                    310.9         48.4   \n",
       "1840                 301.9                    310.4         48.0   \n",
       "42959                302.6                    312.1         28.7   \n",
       "\n",
       "       Tool wear [min]    Power  \n",
       "48977              228  56037.6  \n",
       "54247              200  47897.6  \n",
       "13684              155  70754.4  \n",
       "38029               80  91182.0  \n",
       "24326              200  85187.5  \n",
       "...                ...      ...  \n",
       "22667              189  78022.4  \n",
       "38846               16  81190.0  \n",
       "3453               130  66114.4  \n",
       "1840                73  65904.0  \n",
       "42959              180  47871.6  \n",
       "\n",
       "[17374 rows x 5 columns]"
      ]
     },
     "execution_count": 476,
     "metadata": {},
     "output_type": "execute_result"
    }
   ],
   "source": [
    "x_test2"
   ]
  },
  {
   "cell_type": "code",
   "execution_count": 477,
   "id": "ac7b8f1e",
   "metadata": {},
   "outputs": [
    {
     "data": {
      "text/html": [
       "<div>\n",
       "<style scoped>\n",
       "    .dataframe tbody tr th:only-of-type {\n",
       "        vertical-align: middle;\n",
       "    }\n",
       "\n",
       "    .dataframe tbody tr th {\n",
       "        vertical-align: top;\n",
       "    }\n",
       "\n",
       "    .dataframe thead th {\n",
       "        text-align: right;\n",
       "    }\n",
       "</style>\n",
       "<table border=\"1\" class=\"dataframe\">\n",
       "  <thead>\n",
       "    <tr style=\"text-align: right;\">\n",
       "      <th></th>\n",
       "      <th>Air temperature [K]</th>\n",
       "      <th>Process temperature [K]</th>\n",
       "      <th>Torque [Nm]</th>\n",
       "      <th>Tool wear [min]</th>\n",
       "      <th>Power</th>\n",
       "    </tr>\n",
       "  </thead>\n",
       "  <tbody>\n",
       "    <tr>\n",
       "      <th>0</th>\n",
       "      <td>304.1</td>\n",
       "      <td>313.2</td>\n",
       "      <td>18.9</td>\n",
       "      <td>45</td>\n",
       "      <td>38329.2</td>\n",
       "    </tr>\n",
       "    <tr>\n",
       "      <th>1</th>\n",
       "      <td>297.7</td>\n",
       "      <td>308.7</td>\n",
       "      <td>27.2</td>\n",
       "      <td>125</td>\n",
       "      <td>45913.6</td>\n",
       "    </tr>\n",
       "    <tr>\n",
       "      <th>2</th>\n",
       "      <td>300.5</td>\n",
       "      <td>309.4</td>\n",
       "      <td>23.8</td>\n",
       "      <td>31</td>\n",
       "      <td>44672.6</td>\n",
       "    </tr>\n",
       "    <tr>\n",
       "      <th>3</th>\n",
       "      <td>300.5</td>\n",
       "      <td>309.3</td>\n",
       "      <td>40.8</td>\n",
       "      <td>219</td>\n",
       "      <td>59976.0</td>\n",
       "    </tr>\n",
       "    <tr>\n",
       "      <th>4</th>\n",
       "      <td>301.6</td>\n",
       "      <td>310.6</td>\n",
       "      <td>36.1</td>\n",
       "      <td>208</td>\n",
       "      <td>57723.9</td>\n",
       "    </tr>\n",
       "    <tr>\n",
       "      <th>...</th>\n",
       "      <td>...</td>\n",
       "      <td>...</td>\n",
       "      <td>...</td>\n",
       "      <td>...</td>\n",
       "      <td>...</td>\n",
       "    </tr>\n",
       "    <tr>\n",
       "      <th>10862</th>\n",
       "      <td>302.4</td>\n",
       "      <td>310.1</td>\n",
       "      <td>48.9</td>\n",
       "      <td>107</td>\n",
       "      <td>67433.1</td>\n",
       "    </tr>\n",
       "    <tr>\n",
       "      <th>10863</th>\n",
       "      <td>302.0</td>\n",
       "      <td>310.5</td>\n",
       "      <td>44.4</td>\n",
       "      <td>85</td>\n",
       "      <td>60828.0</td>\n",
       "    </tr>\n",
       "    <tr>\n",
       "      <th>10864</th>\n",
       "      <td>303.4</td>\n",
       "      <td>312.0</td>\n",
       "      <td>35.9</td>\n",
       "      <td>215</td>\n",
       "      <td>54603.9</td>\n",
       "    </tr>\n",
       "    <tr>\n",
       "      <th>10865</th>\n",
       "      <td>301.8</td>\n",
       "      <td>310.3</td>\n",
       "      <td>50.5</td>\n",
       "      <td>64</td>\n",
       "      <td>67720.5</td>\n",
       "    </tr>\n",
       "    <tr>\n",
       "      <th>10866</th>\n",
       "      <td>302.2</td>\n",
       "      <td>310.6</td>\n",
       "      <td>48.4</td>\n",
       "      <td>161</td>\n",
       "      <td>65243.2</td>\n",
       "    </tr>\n",
       "  </tbody>\n",
       "</table>\n",
       "<p>10867 rows × 5 columns</p>\n",
       "</div>"
      ],
      "text/plain": [
       "       Air temperature [K]  Process temperature [K]  Torque [Nm]  \\\n",
       "0                    304.1                    313.2         18.9   \n",
       "1                    297.7                    308.7         27.2   \n",
       "2                    300.5                    309.4         23.8   \n",
       "3                    300.5                    309.3         40.8   \n",
       "4                    301.6                    310.6         36.1   \n",
       "...                    ...                      ...          ...   \n",
       "10862                302.4                    310.1         48.9   \n",
       "10863                302.0                    310.5         44.4   \n",
       "10864                303.4                    312.0         35.9   \n",
       "10865                301.8                    310.3         50.5   \n",
       "10866                302.2                    310.6         48.4   \n",
       "\n",
       "       Tool wear [min]    Power  \n",
       "0                   45  38329.2  \n",
       "1                  125  45913.6  \n",
       "2                   31  44672.6  \n",
       "3                  219  59976.0  \n",
       "4                  208  57723.9  \n",
       "...                ...      ...  \n",
       "10862              107  67433.1  \n",
       "10863               85  60828.0  \n",
       "10864              215  54603.9  \n",
       "10865               64  67720.5  \n",
       "10866              161  65243.2  \n",
       "\n",
       "[10867 rows x 5 columns]"
      ]
     },
     "execution_count": 477,
     "metadata": {},
     "output_type": "execute_result"
    }
   ],
   "source": [
    "x_new"
   ]
  },
  {
   "cell_type": "code",
   "execution_count": 496,
   "id": "a02c25ed",
   "metadata": {},
   "outputs": [],
   "source": [
    "x = np.array([[302,380,80,100,80913]])"
   ]
  },
  {
   "cell_type": "code",
   "execution_count": 497,
   "id": "886cb921",
   "metadata": {
    "scrolled": true
   },
   "outputs": [
    {
     "name": "stderr",
     "output_type": "stream",
     "text": [
      "C:\\Users\\214220002\\Anaconda3\\lib\\site-packages\\sklearn\\base.py:450: UserWarning: X does not have valid feature names, but RandomForestClassifier was fitted with feature names\n",
      "  warnings.warn(\n"
     ]
    },
    {
     "data": {
      "text/plain": [
       "array([1])"
      ]
     },
     "execution_count": 497,
     "metadata": {},
     "output_type": "execute_result"
    }
   ],
   "source": [
    "rf2.predict(x)"
   ]
  },
  {
   "cell_type": "code",
   "execution_count": 490,
   "id": "3e76d668",
   "metadata": {},
   "outputs": [],
   "source": [
    "df_columns = x_test.columns"
   ]
  },
  {
   "cell_type": "code",
   "execution_count": 491,
   "id": "5a3aef74",
   "metadata": {},
   "outputs": [
    {
     "data": {
      "text/plain": [
       "Index(['Air temperature [K]', 'Process temperature [K]', 'Torque [Nm]',\n",
       "       'Tool wear [min]', 'Power'],\n",
       "      dtype='object')"
      ]
     },
     "execution_count": 491,
     "metadata": {},
     "output_type": "execute_result"
    }
   ],
   "source": [
    "df_columns"
   ]
  },
  {
   "cell_type": "code",
   "execution_count": 492,
   "id": "e72129ee",
   "metadata": {},
   "outputs": [],
   "source": [
    "df_test = pd.DataFrame(x, columns = df_columns)"
   ]
  },
  {
   "cell_type": "code",
   "execution_count": 498,
   "id": "a52f5c94",
   "metadata": {},
   "outputs": [
    {
     "data": {
      "text/plain": [
       "array([1])"
      ]
     },
     "execution_count": 498,
     "metadata": {},
     "output_type": "execute_result"
    }
   ],
   "source": [
    "rf2.predict(df_test)"
   ]
  },
  {
   "cell_type": "code",
   "execution_count": 499,
   "id": "8ab27cb8",
   "metadata": {},
   "outputs": [],
   "source": [
    "import pickle"
   ]
  },
  {
   "cell_type": "code",
   "execution_count": 509,
   "id": "e65bda5d",
   "metadata": {},
   "outputs": [],
   "source": [
    "Q1=Q2=Q3=Q4=Q5=0"
   ]
  },
  {
   "cell_type": "code",
   "execution_count": 510,
   "id": "a209070f",
   "metadata": {},
   "outputs": [],
   "source": [
    "data = {'model1':rf1, 'Q1':Q1, 'Q2':Q2, 'Q3':Q3, 'Q4':Q4, 'Q5':Q5}\n",
    "\n",
    "with open('saved_steps_rf1.pkl', 'wb') as file:\n",
    "    pickle.dump(data,file)"
   ]
  },
  {
   "cell_type": "code",
   "execution_count": 512,
   "id": "c9f49e0c",
   "metadata": {},
   "outputs": [],
   "source": [
    "data = {'model2':clf2, 'Q1':Q1, 'Q2':Q2, 'Q3':Q3, 'Q4':Q4, 'Q5':Q5}\n",
    "\n",
    "with open('saved_steps_rf2.pkl', 'wb') as file:\n",
    "    pickle.dump(data,file)"
   ]
  },
  {
   "cell_type": "code",
   "execution_count": null,
   "id": "498a411b",
   "metadata": {},
   "outputs": [],
   "source": []
  }
 ],
 "metadata": {
  "kernelspec": {
   "display_name": "Python 3 (ipykernel)",
   "language": "python",
   "name": "python3"
  },
  "language_info": {
   "codemirror_mode": {
    "name": "ipython",
    "version": 3
   },
   "file_extension": ".py",
   "mimetype": "text/x-python",
   "name": "python",
   "nbconvert_exporter": "python",
   "pygments_lexer": "ipython3",
   "version": "3.9.7"
  }
 },
 "nbformat": 4,
 "nbformat_minor": 5
}
